{
 "cells": [
  {
   "cell_type": "markdown",
   "metadata": {},
   "source": [
    "# Logistic Regression Model "
   ]
  },
  {
   "cell_type": "markdown",
   "metadata": {},
   "source": [
    "Logistic Regression is a statistical method used for binary classification tasks, where the objective is to predict the probability of an event occurring or not. The algorithm is more of classification rather than a regression one. It models the relationship between independent variables and the probability of a particular outcome using the logistic function. Logistic Regression is widely utilized in various fields for its simplicity, interpretability, and effectiveness in scenarios where the response variable is categorical with two classes."
   ]
  },
  {
   "cell_type": "markdown",
   "metadata": {},
   "source": [
    "# Goal is to predict next day will be up day(1) or down day(0)"
   ]
  },
  {
   "cell_type": "code",
   "execution_count": 38,
   "metadata": {},
   "outputs": [],
   "source": [
    "#Import necessary libraries\n",
    "import pandas as pd\n",
    "import numpy as np\n",
    "from datetime import datetime\n",
    "import matplotlib.pyplot as plt\n",
    "import warnings\n",
    "warnings.filterwarnings('ignore')\n",
    "import yfinance as yf\n"
   ]
  },
  {
   "cell_type": "markdown",
   "metadata": {},
   "source": [
    "# Historical data"
   ]
  },
  {
   "cell_type": "code",
   "execution_count": 39,
   "metadata": {
    "scrolled": true
   },
   "outputs": [
    {
     "name": "stdout",
     "output_type": "stream",
     "text": [
      "[*********************100%***********************]  1 of 1 completed\n"
     ]
    },
    {
     "data": {
      "text/html": [
       "<div>\n",
       "<style scoped>\n",
       "    .dataframe tbody tr th:only-of-type {\n",
       "        vertical-align: middle;\n",
       "    }\n",
       "\n",
       "    .dataframe tbody tr th {\n",
       "        vertical-align: top;\n",
       "    }\n",
       "\n",
       "    .dataframe thead th {\n",
       "        text-align: right;\n",
       "    }\n",
       "</style>\n",
       "<table border=\"1\" class=\"dataframe\">\n",
       "  <thead>\n",
       "    <tr style=\"text-align: right;\">\n",
       "      <th></th>\n",
       "      <th>Open</th>\n",
       "      <th>High</th>\n",
       "      <th>Low</th>\n",
       "      <th>Close</th>\n",
       "      <th>Adj Close</th>\n",
       "      <th>Volume</th>\n",
       "    </tr>\n",
       "    <tr>\n",
       "      <th>Date</th>\n",
       "      <th></th>\n",
       "      <th></th>\n",
       "      <th></th>\n",
       "      <th></th>\n",
       "      <th></th>\n",
       "      <th></th>\n",
       "    </tr>\n",
       "  </thead>\n",
       "  <tbody>\n",
       "    <tr>\n",
       "      <th>2013-12-31</th>\n",
       "      <td>46.290001</td>\n",
       "      <td>47.070000</td>\n",
       "      <td>45.599998</td>\n",
       "      <td>46.610001</td>\n",
       "      <td>43.570217</td>\n",
       "      <td>460800</td>\n",
       "    </tr>\n",
       "    <tr>\n",
       "      <th>2014-01-02</th>\n",
       "      <td>46.869999</td>\n",
       "      <td>46.869999</td>\n",
       "      <td>43.779999</td>\n",
       "      <td>43.779999</td>\n",
       "      <td>40.924782</td>\n",
       "      <td>798800</td>\n",
       "    </tr>\n",
       "    <tr>\n",
       "      <th>2014-01-03</th>\n",
       "      <td>44.790001</td>\n",
       "      <td>45.180000</td>\n",
       "      <td>41.779999</td>\n",
       "      <td>42.660000</td>\n",
       "      <td>39.877827</td>\n",
       "      <td>1247300</td>\n",
       "    </tr>\n",
       "    <tr>\n",
       "      <th>2014-01-06</th>\n",
       "      <td>44.669998</td>\n",
       "      <td>45.000000</td>\n",
       "      <td>42.759998</td>\n",
       "      <td>42.980000</td>\n",
       "      <td>40.176956</td>\n",
       "      <td>1101300</td>\n",
       "    </tr>\n",
       "    <tr>\n",
       "      <th>2014-01-07</th>\n",
       "      <td>43.840000</td>\n",
       "      <td>45.790001</td>\n",
       "      <td>43.119999</td>\n",
       "      <td>45.790001</td>\n",
       "      <td>42.803696</td>\n",
       "      <td>1677300</td>\n",
       "    </tr>\n",
       "    <tr>\n",
       "      <th>...</th>\n",
       "      <td>...</td>\n",
       "      <td>...</td>\n",
       "      <td>...</td>\n",
       "      <td>...</td>\n",
       "      <td>...</td>\n",
       "      <td>...</td>\n",
       "    </tr>\n",
       "    <tr>\n",
       "      <th>2023-12-22</th>\n",
       "      <td>2.340000</td>\n",
       "      <td>2.450000</td>\n",
       "      <td>2.300000</td>\n",
       "      <td>2.320000</td>\n",
       "      <td>2.320000</td>\n",
       "      <td>243400</td>\n",
       "    </tr>\n",
       "    <tr>\n",
       "      <th>2023-12-26</th>\n",
       "      <td>2.330000</td>\n",
       "      <td>2.520000</td>\n",
       "      <td>2.310000</td>\n",
       "      <td>2.470000</td>\n",
       "      <td>2.470000</td>\n",
       "      <td>286600</td>\n",
       "    </tr>\n",
       "    <tr>\n",
       "      <th>2023-12-27</th>\n",
       "      <td>2.430000</td>\n",
       "      <td>2.440000</td>\n",
       "      <td>2.330000</td>\n",
       "      <td>2.340000</td>\n",
       "      <td>2.340000</td>\n",
       "      <td>412000</td>\n",
       "    </tr>\n",
       "    <tr>\n",
       "      <th>2023-12-28</th>\n",
       "      <td>2.320000</td>\n",
       "      <td>2.400000</td>\n",
       "      <td>2.250000</td>\n",
       "      <td>2.270000</td>\n",
       "      <td>2.270000</td>\n",
       "      <td>464700</td>\n",
       "    </tr>\n",
       "    <tr>\n",
       "      <th>2023-12-29</th>\n",
       "      <td>2.280000</td>\n",
       "      <td>2.400000</td>\n",
       "      <td>2.250000</td>\n",
       "      <td>2.280000</td>\n",
       "      <td>2.280000</td>\n",
       "      <td>567900</td>\n",
       "    </tr>\n",
       "  </tbody>\n",
       "</table>\n",
       "<p>2517 rows × 6 columns</p>\n",
       "</div>"
      ],
      "text/plain": [
       "                 Open       High        Low      Close  Adj Close   Volume\n",
       "Date                                                                      \n",
       "2013-12-31  46.290001  47.070000  45.599998  46.610001  43.570217   460800\n",
       "2014-01-02  46.869999  46.869999  43.779999  43.779999  40.924782   798800\n",
       "2014-01-03  44.790001  45.180000  41.779999  42.660000  39.877827  1247300\n",
       "2014-01-06  44.669998  45.000000  42.759998  42.980000  40.176956  1101300\n",
       "2014-01-07  43.840000  45.790001  43.119999  45.790001  42.803696  1677300\n",
       "...               ...        ...        ...        ...        ...      ...\n",
       "2023-12-22   2.340000   2.450000   2.300000   2.320000   2.320000   243400\n",
       "2023-12-26   2.330000   2.520000   2.310000   2.470000   2.470000   286600\n",
       "2023-12-27   2.430000   2.440000   2.330000   2.340000   2.340000   412000\n",
       "2023-12-28   2.320000   2.400000   2.250000   2.270000   2.270000   464700\n",
       "2023-12-29   2.280000   2.400000   2.250000   2.280000   2.280000   567900\n",
       "\n",
       "[2517 rows x 6 columns]"
      ]
     },
     "execution_count": 39,
     "metadata": {},
     "output_type": "execute_result"
    }
   ],
   "source": [
    "#download data\n",
    "df = yf.download(\"TCS\",start ='2013-12-31',end ='2023-12-30')\n",
    "df"
   ]
  },
  {
   "cell_type": "code",
   "execution_count": 40,
   "metadata": {},
   "outputs": [],
   "source": [
    "# Make the copy of the data. will work on the copied data.\n",
    "data = df.copy()"
   ]
  },
  {
   "cell_type": "markdown",
   "metadata": {},
   "source": [
    "### Generate Target Values"
   ]
  },
  {
   "cell_type": "markdown",
   "metadata": {},
   "source": [
    "We want to predict the next days movement: up(1) or down(0). \n",
    "\n",
    "This is a classification task. And for that purpose, we will create our target values. "
   ]
  },
  {
   "cell_type": "code",
   "execution_count": 41,
   "metadata": {},
   "outputs": [],
   "source": [
    "# Generate log returns\n",
    "data['returns'] = np.log(data['Close'] / data['Close'].shift(1))"
   ]
  },
  {
   "cell_type": "markdown",
   "metadata": {},
   "source": [
    "If the next day is up day, we will designate it with 1, else if it is a down day, we will mark it with -1."
   ]
  },
  {
   "cell_type": "code",
   "execution_count": 42,
   "metadata": {},
   "outputs": [],
   "source": [
    "# Create target values\n",
    "data['target'] = np.where(data['returns'].shift(-1) > 0, 1, 0)"
   ]
  },
  {
   "cell_type": "code",
   "execution_count": 43,
   "metadata": {},
   "outputs": [
    {
     "data": {
      "text/plain": [
       "0    1347\n",
       "1    1170\n",
       "Name: target, dtype: int64"
      ]
     },
     "execution_count": 43,
     "metadata": {},
     "output_type": "execute_result"
    }
   ],
   "source": [
    "data['target'].value_counts()"
   ]
  },
  {
   "cell_type": "code",
   "execution_count": 44,
   "metadata": {
    "scrolled": true
   },
   "outputs": [
    {
     "data": {
      "text/html": [
       "<div>\n",
       "<style scoped>\n",
       "    .dataframe tbody tr th:only-of-type {\n",
       "        vertical-align: middle;\n",
       "    }\n",
       "\n",
       "    .dataframe tbody tr th {\n",
       "        vertical-align: top;\n",
       "    }\n",
       "\n",
       "    .dataframe thead th {\n",
       "        text-align: right;\n",
       "    }\n",
       "</style>\n",
       "<table border=\"1\" class=\"dataframe\">\n",
       "  <thead>\n",
       "    <tr style=\"text-align: right;\">\n",
       "      <th></th>\n",
       "      <th>Open</th>\n",
       "      <th>High</th>\n",
       "      <th>Low</th>\n",
       "      <th>Close</th>\n",
       "      <th>Adj Close</th>\n",
       "      <th>Volume</th>\n",
       "      <th>returns</th>\n",
       "      <th>target</th>\n",
       "    </tr>\n",
       "    <tr>\n",
       "      <th>Date</th>\n",
       "      <th></th>\n",
       "      <th></th>\n",
       "      <th></th>\n",
       "      <th></th>\n",
       "      <th></th>\n",
       "      <th></th>\n",
       "      <th></th>\n",
       "      <th></th>\n",
       "    </tr>\n",
       "  </thead>\n",
       "  <tbody>\n",
       "    <tr>\n",
       "      <th>2013-12-31</th>\n",
       "      <td>46.290001</td>\n",
       "      <td>47.070000</td>\n",
       "      <td>45.599998</td>\n",
       "      <td>46.610001</td>\n",
       "      <td>43.570217</td>\n",
       "      <td>460800</td>\n",
       "      <td>NaN</td>\n",
       "      <td>0</td>\n",
       "    </tr>\n",
       "    <tr>\n",
       "      <th>2014-01-02</th>\n",
       "      <td>46.869999</td>\n",
       "      <td>46.869999</td>\n",
       "      <td>43.779999</td>\n",
       "      <td>43.779999</td>\n",
       "      <td>40.924782</td>\n",
       "      <td>798800</td>\n",
       "      <td>-0.062638</td>\n",
       "      <td>0</td>\n",
       "    </tr>\n",
       "    <tr>\n",
       "      <th>2014-01-03</th>\n",
       "      <td>44.790001</td>\n",
       "      <td>45.180000</td>\n",
       "      <td>41.779999</td>\n",
       "      <td>42.660000</td>\n",
       "      <td>39.877827</td>\n",
       "      <td>1247300</td>\n",
       "      <td>-0.025915</td>\n",
       "      <td>1</td>\n",
       "    </tr>\n",
       "  </tbody>\n",
       "</table>\n",
       "</div>"
      ],
      "text/plain": [
       "                 Open       High        Low      Close  Adj Close   Volume  \\\n",
       "Date                                                                         \n",
       "2013-12-31  46.290001  47.070000  45.599998  46.610001  43.570217   460800   \n",
       "2014-01-02  46.869999  46.869999  43.779999  43.779999  40.924782   798800   \n",
       "2014-01-03  44.790001  45.180000  41.779999  42.660000  39.877827  1247300   \n",
       "\n",
       "             returns  target  \n",
       "Date                          \n",
       "2013-12-31       NaN       0  \n",
       "2014-01-02 -0.062638       0  \n",
       "2014-01-03 -0.025915       1  "
      ]
     },
     "execution_count": 44,
     "metadata": {},
     "output_type": "execute_result"
    }
   ],
   "source": [
    "data.head(3)"
   ]
  },
  {
   "cell_type": "code",
   "execution_count": 45,
   "metadata": {},
   "outputs": [],
   "source": [
    "# Creating features\n",
    "features_list = []\n",
    "\n",
    "# SD based features\n",
    "for i in range(5, 20, 5):\n",
    "    col_name = 'std_' + str(i)\n",
    "    data[col_name] = data['Close'].rolling(window=i).std()\n",
    "    features_list.append(col_name)\n",
    "\n",
    "# MA based features\n",
    "for i in range(10, 30, 5):\n",
    "    col_name = 'ma_' + str(i)\n",
    "    data[col_name] = data['Close'].ewm(span=i, adjust=False).mean()\n",
    "    features_list.append(col_name)\n",
    "    \n",
    "# Daily pct change based features\n",
    "for i in range(3, 12, 3):\n",
    "    col_name = 'pct_' + str(i)\n",
    "    data[col_name] = data['Close'].pct_change().rolling(i).sum()\n",
    "    features_list.append(col_name)\n",
    "    \n",
    "# Feature based on volume\n",
    "col_name = 'vma_4'\n",
    "data[col_name] = data['Volume'].rolling(4).mean()\n",
    "features_list.append(col_name)\n",
    "\n",
    "# Intraday movement\n",
    "col_name = 'co'\n",
    "data[col_name] = data['Close'] - data['Open']\n",
    "features_list.append(col_name)"
   ]
  },
  {
   "cell_type": "code",
   "execution_count": 46,
   "metadata": {},
   "outputs": [
    {
     "data": {
      "text/plain": [
       "['std_5',\n",
       " 'std_10',\n",
       " 'std_15',\n",
       " 'ma_10',\n",
       " 'ma_15',\n",
       " 'ma_20',\n",
       " 'ma_25',\n",
       " 'pct_3',\n",
       " 'pct_6',\n",
       " 'pct_9',\n",
       " 'vma_4',\n",
       " 'co']"
      ]
     },
     "execution_count": 46,
     "metadata": {},
     "output_type": "execute_result"
    }
   ],
   "source": [
    "features_list"
   ]
  },
  {
   "cell_type": "code",
   "execution_count": 47,
   "metadata": {},
   "outputs": [],
   "source": [
    "# Removing nan values\n",
    "data.dropna(inplace=True)"
   ]
  },
  {
   "cell_type": "code",
   "execution_count": 48,
   "metadata": {
    "scrolled": true
   },
   "outputs": [
    {
     "data": {
      "text/html": [
       "<div>\n",
       "<style scoped>\n",
       "    .dataframe tbody tr th:only-of-type {\n",
       "        vertical-align: middle;\n",
       "    }\n",
       "\n",
       "    .dataframe tbody tr th {\n",
       "        vertical-align: top;\n",
       "    }\n",
       "\n",
       "    .dataframe thead th {\n",
       "        text-align: right;\n",
       "    }\n",
       "</style>\n",
       "<table border=\"1\" class=\"dataframe\">\n",
       "  <thead>\n",
       "    <tr style=\"text-align: right;\">\n",
       "      <th></th>\n",
       "      <th>std_5</th>\n",
       "      <th>std_10</th>\n",
       "      <th>std_15</th>\n",
       "      <th>ma_10</th>\n",
       "      <th>ma_15</th>\n",
       "      <th>ma_20</th>\n",
       "      <th>ma_25</th>\n",
       "      <th>pct_3</th>\n",
       "      <th>pct_6</th>\n",
       "      <th>pct_9</th>\n",
       "      <th>vma_4</th>\n",
       "      <th>co</th>\n",
       "      <th>target</th>\n",
       "    </tr>\n",
       "    <tr>\n",
       "      <th>Date</th>\n",
       "      <th></th>\n",
       "      <th></th>\n",
       "      <th></th>\n",
       "      <th></th>\n",
       "      <th></th>\n",
       "      <th></th>\n",
       "      <th></th>\n",
       "      <th></th>\n",
       "      <th></th>\n",
       "      <th></th>\n",
       "      <th></th>\n",
       "      <th></th>\n",
       "      <th></th>\n",
       "    </tr>\n",
       "  </thead>\n",
       "  <tbody>\n",
       "    <tr>\n",
       "      <th>2014-01-22</th>\n",
       "      <td>0.442098</td>\n",
       "      <td>0.495419</td>\n",
       "      <td>2.927131</td>\n",
       "      <td>39.525369</td>\n",
       "      <td>40.473924</td>\n",
       "      <td>41.274947</td>\n",
       "      <td>41.918251</td>\n",
       "      <td>-0.012318</td>\n",
       "      <td>-0.016081</td>\n",
       "      <td>-0.013100</td>\n",
       "      <td>398000.0</td>\n",
       "      <td>-0.070000</td>\n",
       "      <td>0</td>\n",
       "    </tr>\n",
       "    <tr>\n",
       "      <th>2014-01-23</th>\n",
       "      <td>0.323187</td>\n",
       "      <td>0.535165</td>\n",
       "      <td>2.476759</td>\n",
       "      <td>39.248029</td>\n",
       "      <td>40.164683</td>\n",
       "      <td>40.963047</td>\n",
       "      <td>41.616847</td>\n",
       "      <td>-0.009886</td>\n",
       "      <td>-0.003990</td>\n",
       "      <td>-0.000962</td>\n",
       "      <td>328600.0</td>\n",
       "      <td>-0.740002</td>\n",
       "      <td>0</td>\n",
       "    </tr>\n",
       "    <tr>\n",
       "      <th>2014-01-24</th>\n",
       "      <td>0.241599</td>\n",
       "      <td>0.553671</td>\n",
       "      <td>2.298874</td>\n",
       "      <td>39.012024</td>\n",
       "      <td>39.887848</td>\n",
       "      <td>40.676090</td>\n",
       "      <td>41.334782</td>\n",
       "      <td>-0.012505</td>\n",
       "      <td>-0.037260</td>\n",
       "      <td>-0.037711</td>\n",
       "      <td>369000.0</td>\n",
       "      <td>-0.049999</td>\n",
       "      <td>0</td>\n",
       "    </tr>\n",
       "    <tr>\n",
       "      <th>2014-01-27</th>\n",
       "      <td>0.307977</td>\n",
       "      <td>0.533218</td>\n",
       "      <td>2.187110</td>\n",
       "      <td>38.780747</td>\n",
       "      <td>39.619367</td>\n",
       "      <td>40.396463</td>\n",
       "      <td>41.058261</td>\n",
       "      <td>-0.018039</td>\n",
       "      <td>-0.030357</td>\n",
       "      <td>-0.034119</td>\n",
       "      <td>341800.0</td>\n",
       "      <td>-0.320000</td>\n",
       "      <td>0</td>\n",
       "    </tr>\n",
       "    <tr>\n",
       "      <th>2014-01-28</th>\n",
       "      <td>0.732918</td>\n",
       "      <td>0.768844</td>\n",
       "      <td>2.049533</td>\n",
       "      <td>38.364248</td>\n",
       "      <td>39.228197</td>\n",
       "      <td>40.024419</td>\n",
       "      <td>40.706856</td>\n",
       "      <td>-0.039971</td>\n",
       "      <td>-0.049857</td>\n",
       "      <td>-0.043961</td>\n",
       "      <td>401450.0</td>\n",
       "      <td>-1.549999</td>\n",
       "      <td>0</td>\n",
       "    </tr>\n",
       "  </tbody>\n",
       "</table>\n",
       "</div>"
      ],
      "text/plain": [
       "               std_5    std_10    std_15      ma_10      ma_15      ma_20  \\\n",
       "Date                                                                        \n",
       "2014-01-22  0.442098  0.495419  2.927131  39.525369  40.473924  41.274947   \n",
       "2014-01-23  0.323187  0.535165  2.476759  39.248029  40.164683  40.963047   \n",
       "2014-01-24  0.241599  0.553671  2.298874  39.012024  39.887848  40.676090   \n",
       "2014-01-27  0.307977  0.533218  2.187110  38.780747  39.619367  40.396463   \n",
       "2014-01-28  0.732918  0.768844  2.049533  38.364248  39.228197  40.024419   \n",
       "\n",
       "                ma_25     pct_3     pct_6     pct_9     vma_4        co  \\\n",
       "Date                                                                      \n",
       "2014-01-22  41.918251 -0.012318 -0.016081 -0.013100  398000.0 -0.070000   \n",
       "2014-01-23  41.616847 -0.009886 -0.003990 -0.000962  328600.0 -0.740002   \n",
       "2014-01-24  41.334782 -0.012505 -0.037260 -0.037711  369000.0 -0.049999   \n",
       "2014-01-27  41.058261 -0.018039 -0.030357 -0.034119  341800.0 -0.320000   \n",
       "2014-01-28  40.706856 -0.039971 -0.049857 -0.043961  401450.0 -1.549999   \n",
       "\n",
       "            target  \n",
       "Date                \n",
       "2014-01-22       0  \n",
       "2014-01-23       0  \n",
       "2014-01-24       0  \n",
       "2014-01-27       0  \n",
       "2014-01-28       0  "
      ]
     },
     "execution_count": 48,
     "metadata": {},
     "output_type": "execute_result"
    }
   ],
   "source": [
    "data[features_list + ['target']].head()"
   ]
  },
  {
   "cell_type": "code",
   "execution_count": 49,
   "metadata": {},
   "outputs": [],
   "source": [
    "from sklearn.model_selection import train_test_split"
   ]
  },
  {
   "cell_type": "code",
   "execution_count": 50,
   "metadata": {},
   "outputs": [
    {
     "data": {
      "text/plain": [
       "((1876, 12), (1876,), (626, 12), (626,))"
      ]
     },
     "execution_count": 50,
     "metadata": {},
     "output_type": "execute_result"
    }
   ],
   "source": [
    "#splitting data into train and test\n",
    "X_train , X_test, y_train, y_test = train_test_split(data[features_list].iloc[:-1],\n",
    "                                                    data.iloc[:-1]['target'],\n",
    "                                                    test_size= 0.25, \n",
    "                                                    shuffle=False)\n",
    "\n",
    "X_train.shape, y_train.shape, X_test.shape, y_test.shape"
   ]
  },
  {
   "cell_type": "code",
   "execution_count": 51,
   "metadata": {},
   "outputs": [],
   "source": [
    "from sklearn.preprocessing import StandardScaler"
   ]
  },
  {
   "cell_type": "code",
   "execution_count": 52,
   "metadata": {},
   "outputs": [],
   "source": [
    "# Scaling the features\n",
    "scaler = StandardScaler()\n",
    "# An instance of the StandardScaler class is created. This scaler will be used to standardize the features.\n",
    "\n",
    "X_train_scaled = scaler.fit_transform(X_train)\n",
    "# fit is calculating zscore and calculate statistical varaibles\n",
    "X_test_scaled = scaler.transform(X_test)\n",
    "# and as x_test is testing data we will keep it hidden and not calculate zscore"
   ]
  },
  {
   "cell_type": "markdown",
   "metadata": {},
   "source": [
    "The fit_transform method is used on the training data (X_train) to compute the mean and standard deviation necessary for standardization and then applies the transformation. The same transformation (using transform) is applied to the testing data (X_test). This ensures that both training and testing sets are scaled using the same mean and standard deviation.\n",
    "\n",
    "Brings standard deviation and mean to 1"
   ]
  },
  {
   "cell_type": "code",
   "execution_count": 53,
   "metadata": {},
   "outputs": [
    {
     "data": {
      "text/plain": [
       "<seaborn.axisgrid.PairGrid at 0x19e9d9e7100>"
      ]
     },
     "execution_count": 53,
     "metadata": {},
     "output_type": "execute_result"
    },
    {
     "data": {
      "image/png": "[encoded data removed]",
      "text/plain": [
       "<Figure size 750x750 with 12 Axes>"
      ]
     },
     "metadata": {},
     "output_type": "display_data"
    }
   ],
   "source": [
    "X_train_scaled_df = pd.DataFrame(X_train_scaled, columns=X_train.columns)\n",
    "#The scaled training data is converted to a DataFrame (X_train_scaled_df) to facilitate visualization and analysis. \n",
    "#The columns are named after the original features.\n",
    "\n",
    "sns.pairplot(X_train_scaled_df[['std_5', 'ma_10', 'vma_4']])"
   ]
  },
  {
   "cell_type": "code",
   "execution_count": 54,
   "metadata": {
    "scrolled": true
   },
   "outputs": [
    {
     "data": {
      "text/html": [
       "<div>\n",
       "<style scoped>\n",
       "    .dataframe tbody tr th:only-of-type {\n",
       "        vertical-align: middle;\n",
       "    }\n",
       "\n",
       "    .dataframe tbody tr th {\n",
       "        vertical-align: top;\n",
       "    }\n",
       "\n",
       "    .dataframe thead th {\n",
       "        text-align: right;\n",
       "    }\n",
       "</style>\n",
       "<table border=\"1\" class=\"dataframe\">\n",
       "  <thead>\n",
       "    <tr style=\"text-align: right;\">\n",
       "      <th></th>\n",
       "      <th>std_5</th>\n",
       "      <th>std_10</th>\n",
       "      <th>std_15</th>\n",
       "      <th>ma_10</th>\n",
       "      <th>ma_15</th>\n",
       "      <th>ma_20</th>\n",
       "      <th>ma_25</th>\n",
       "      <th>pct_3</th>\n",
       "      <th>pct_6</th>\n",
       "      <th>pct_9</th>\n",
       "      <th>vma_4</th>\n",
       "      <th>co</th>\n",
       "    </tr>\n",
       "  </thead>\n",
       "  <tbody>\n",
       "    <tr>\n",
       "      <th>count</th>\n",
       "      <td>1876.00</td>\n",
       "      <td>1876.00</td>\n",
       "      <td>1876.00</td>\n",
       "      <td>1876.00</td>\n",
       "      <td>1876.00</td>\n",
       "      <td>1876.00</td>\n",
       "      <td>1876.00</td>\n",
       "      <td>1876.00</td>\n",
       "      <td>1876.00</td>\n",
       "      <td>1876.00</td>\n",
       "      <td>1876.00</td>\n",
       "      <td>1876.00</td>\n",
       "    </tr>\n",
       "    <tr>\n",
       "      <th>mean</th>\n",
       "      <td>0.00</td>\n",
       "      <td>0.00</td>\n",
       "      <td>-0.00</td>\n",
       "      <td>0.00</td>\n",
       "      <td>0.00</td>\n",
       "      <td>-0.00</td>\n",
       "      <td>0.00</td>\n",
       "      <td>-0.00</td>\n",
       "      <td>0.00</td>\n",
       "      <td>0.00</td>\n",
       "      <td>0.00</td>\n",
       "      <td>0.00</td>\n",
       "    </tr>\n",
       "    <tr>\n",
       "      <th>std</th>\n",
       "      <td>1.00</td>\n",
       "      <td>1.00</td>\n",
       "      <td>1.00</td>\n",
       "      <td>1.00</td>\n",
       "      <td>1.00</td>\n",
       "      <td>1.00</td>\n",
       "      <td>1.00</td>\n",
       "      <td>1.00</td>\n",
       "      <td>1.00</td>\n",
       "      <td>1.00</td>\n",
       "      <td>1.00</td>\n",
       "      <td>1.00</td>\n",
       "    </tr>\n",
       "    <tr>\n",
       "      <th>min</th>\n",
       "      <td>-0.91</td>\n",
       "      <td>-0.98</td>\n",
       "      <td>-1.03</td>\n",
       "      <td>-1.04</td>\n",
       "      <td>-1.04</td>\n",
       "      <td>-1.03</td>\n",
       "      <td>-1.02</td>\n",
       "      <td>-6.13</td>\n",
       "      <td>-4.89</td>\n",
       "      <td>-4.16</td>\n",
       "      <td>-0.81</td>\n",
       "      <td>-6.64</td>\n",
       "    </tr>\n",
       "    <tr>\n",
       "      <th>25%</th>\n",
       "      <td>-0.61</td>\n",
       "      <td>-0.65</td>\n",
       "      <td>-0.68</td>\n",
       "      <td>-0.69</td>\n",
       "      <td>-0.69</td>\n",
       "      <td>-0.68</td>\n",
       "      <td>-0.68</td>\n",
       "      <td>-0.47</td>\n",
       "      <td>-0.49</td>\n",
       "      <td>-0.51</td>\n",
       "      <td>-0.52</td>\n",
       "      <td>-0.36</td>\n",
       "    </tr>\n",
       "    <tr>\n",
       "      <th>50%</th>\n",
       "      <td>-0.33</td>\n",
       "      <td>-0.33</td>\n",
       "      <td>-0.30</td>\n",
       "      <td>-0.47</td>\n",
       "      <td>-0.48</td>\n",
       "      <td>-0.48</td>\n",
       "      <td>-0.49</td>\n",
       "      <td>-0.04</td>\n",
       "      <td>-0.02</td>\n",
       "      <td>-0.03</td>\n",
       "      <td>-0.34</td>\n",
       "      <td>-0.01</td>\n",
       "    </tr>\n",
       "    <tr>\n",
       "      <th>75%</th>\n",
       "      <td>0.21</td>\n",
       "      <td>0.29</td>\n",
       "      <td>0.26</td>\n",
       "      <td>0.62</td>\n",
       "      <td>0.63</td>\n",
       "      <td>0.61</td>\n",
       "      <td>0.58</td>\n",
       "      <td>0.41</td>\n",
       "      <td>0.39</td>\n",
       "      <td>0.42</td>\n",
       "      <td>0.03</td>\n",
       "      <td>0.37</td>\n",
       "    </tr>\n",
       "    <tr>\n",
       "      <th>max</th>\n",
       "      <td>9.19</td>\n",
       "      <td>6.46</td>\n",
       "      <td>5.29</td>\n",
       "      <td>3.67</td>\n",
       "      <td>3.75</td>\n",
       "      <td>3.81</td>\n",
       "      <td>3.85</td>\n",
       "      <td>7.23</td>\n",
       "      <td>5.19</td>\n",
       "      <td>5.01</td>\n",
       "      <td>7.18</td>\n",
       "      <td>5.31</td>\n",
       "    </tr>\n",
       "  </tbody>\n",
       "</table>\n",
       "</div>"
      ],
      "text/plain": [
       "         std_5   std_10   std_15    ma_10    ma_15    ma_20    ma_25    pct_3  \\\n",
       "count  1876.00  1876.00  1876.00  1876.00  1876.00  1876.00  1876.00  1876.00   \n",
       "mean      0.00     0.00    -0.00     0.00     0.00    -0.00     0.00    -0.00   \n",
       "std       1.00     1.00     1.00     1.00     1.00     1.00     1.00     1.00   \n",
       "min      -0.91    -0.98    -1.03    -1.04    -1.04    -1.03    -1.02    -6.13   \n",
       "25%      -0.61    -0.65    -0.68    -0.69    -0.69    -0.68    -0.68    -0.47   \n",
       "50%      -0.33    -0.33    -0.30    -0.47    -0.48    -0.48    -0.49    -0.04   \n",
       "75%       0.21     0.29     0.26     0.62     0.63     0.61     0.58     0.41   \n",
       "max       9.19     6.46     5.29     3.67     3.75     3.81     3.85     7.23   \n",
       "\n",
       "         pct_6    pct_9    vma_4       co  \n",
       "count  1876.00  1876.00  1876.00  1876.00  \n",
       "mean      0.00     0.00     0.00     0.00  \n",
       "std       1.00     1.00     1.00     1.00  \n",
       "min      -4.89    -4.16    -0.81    -6.64  \n",
       "25%      -0.49    -0.51    -0.52    -0.36  \n",
       "50%      -0.02    -0.03    -0.34    -0.01  \n",
       "75%       0.39     0.42     0.03     0.37  \n",
       "max       5.19     5.01     7.18     5.31  "
      ]
     },
     "execution_count": 54,
     "metadata": {},
     "output_type": "execute_result"
    }
   ],
   "source": [
    "X_train_scaled_df.describe().round(2)\n",
    "\n",
    "#This can be useful for better readability, as the features become rows and the summary statistics become columns."
   ]
  },
  {
   "cell_type": "code",
   "execution_count": 55,
   "metadata": {},
   "outputs": [],
   "source": [
    "# Import necessary package\n",
    "from sklearn.linear_model import LogisticRegression"
   ]
  },
  {
   "cell_type": "code",
   "execution_count": 56,
   "metadata": {},
   "outputs": [],
   "source": [
    "LogisticRegression?"
   ]
  },
  {
   "cell_type": "code",
   "execution_count": 57,
   "metadata": {},
   "outputs": [],
   "source": [
    "# define model\n",
    "model = LogisticRegression(random_state=1)"
   ]
  },
  {
   "cell_type": "code",
   "execution_count": 58,
   "metadata": {},
   "outputs": [
    {
     "data": {
      "text/html": [
       "<style>#sk-container-id-2 {color: black;background-color: white;}#sk-container-id-2 pre{padding: 0;}#sk-container-id-2 div.sk-toggleable {background-color: white;}#sk-container-id-2 label.sk-toggleable__label {cursor: pointer;display: block;width: 100%;margin-bottom: 0;padding: 0.3em;box-sizing: border-box;text-align: center;}#sk-container-id-2 label.sk-toggleable__label-arrow:before {content: \"▸\";float: left;margin-right: 0.25em;color: #696969;}#sk-container-id-2 label.sk-toggleable__label-arrow:hover:before {color: black;}#sk-container-id-2 div.sk-estimator:hover label.sk-toggleable__label-arrow:before {color: black;}#sk-container-id-2 div.sk-toggleable__content {max-height: 0;max-width: 0;overflow: hidden;text-align: left;background-color: #f0f8ff;}#sk-container-id-2 div.sk-toggleable__content pre {margin: 0.2em;color: black;border-radius: 0.25em;background-color: #f0f8ff;}#sk-container-id-2 input.sk-toggleable__control:checked~div.sk-toggleable__content {max-height: 200px;max-width: 100%;overflow: auto;}#sk-container-id-2 input.sk-toggleable__control:checked~label.sk-toggleable__label-arrow:before {content: \"▾\";}#sk-container-id-2 div.sk-estimator input.sk-toggleable__control:checked~label.sk-toggleable__label {background-color: #d4ebff;}#sk-container-id-2 div.sk-label input.sk-toggleable__control:checked~label.sk-toggleable__label {background-color: #d4ebff;}#sk-container-id-2 input.sk-hidden--visually {border: 0;clip: rect(1px 1px 1px 1px);clip: rect(1px, 1px, 1px, 1px);height: 1px;margin: -1px;overflow: hidden;padding: 0;position: absolute;width: 1px;}#sk-container-id-2 div.sk-estimator {font-family: monospace;background-color: #f0f8ff;border: 1px dotted black;border-radius: 0.25em;box-sizing: border-box;margin-bottom: 0.5em;}#sk-container-id-2 div.sk-estimator:hover {background-color: #d4ebff;}#sk-container-id-2 div.sk-parallel-item::after {content: \"\";width: 100%;border-bottom: 1px solid gray;flex-grow: 1;}#sk-container-id-2 div.sk-label:hover label.sk-toggleable__label {background-color: #d4ebff;}#sk-container-id-2 div.sk-serial::before {content: \"\";position: absolute;border-left: 1px solid gray;box-sizing: border-box;top: 0;bottom: 0;left: 50%;z-index: 0;}#sk-container-id-2 div.sk-serial {display: flex;flex-direction: column;align-items: center;background-color: white;padding-right: 0.2em;padding-left: 0.2em;position: relative;}#sk-container-id-2 div.sk-item {position: relative;z-index: 1;}#sk-container-id-2 div.sk-parallel {display: flex;align-items: stretch;justify-content: center;background-color: white;position: relative;}#sk-container-id-2 div.sk-item::before, #sk-container-id-2 div.sk-parallel-item::before {content: \"\";position: absolute;border-left: 1px solid gray;box-sizing: border-box;top: 0;bottom: 0;left: 50%;z-index: -1;}#sk-container-id-2 div.sk-parallel-item {display: flex;flex-direction: column;z-index: 1;position: relative;background-color: white;}#sk-container-id-2 div.sk-parallel-item:first-child::after {align-self: flex-end;width: 50%;}#sk-container-id-2 div.sk-parallel-item:last-child::after {align-self: flex-start;width: 50%;}#sk-container-id-2 div.sk-parallel-item:only-child::after {width: 0;}#sk-container-id-2 div.sk-dashed-wrapped {border: 1px dashed gray;margin: 0 0.4em 0.5em 0.4em;box-sizing: border-box;padding-bottom: 0.4em;background-color: white;}#sk-container-id-2 div.sk-label label {font-family: monospace;font-weight: bold;display: inline-block;line-height: 1.2em;}#sk-container-id-2 div.sk-label-container {text-align: center;}#sk-container-id-2 div.sk-container {/* jupyter's `normalize.less` sets `[hidden] { display: none; }` but bootstrap.min.css set `[hidden] { display: none !important; }` so we also need the `!important` here to be able to override the default hidden behavior on the sphinx rendered scikit-learn.org. See: https://github.com/scikit-learn/scikit-learn/issues/21755 */display: inline-block !important;position: relative;}#sk-container-id-2 div.sk-text-repr-fallback {display: none;}</style><div id=\"sk-container-id-2\" class=\"sk-top-container\"><div class=\"sk-text-repr-fallback\"><pre>LogisticRegression(random_state=1)</pre><b>In a Jupyter environment, please rerun this cell to show the HTML representation or trust the notebook. <br />On GitHub, the HTML representation is unable to render, please try loading this page with nbviewer.org.</b></div><div class=\"sk-container\" hidden><div class=\"sk-item\"><div class=\"sk-estimator sk-toggleable\"><input class=\"sk-toggleable__control sk-hidden--visually\" id=\"sk-estimator-id-2\" type=\"checkbox\" checked><label for=\"sk-estimator-id-2\" class=\"sk-toggleable__label sk-toggleable__label-arrow\">LogisticRegression</label><div class=\"sk-toggleable__content\"><pre>LogisticRegression(random_state=1)</pre></div></div></div></div></div>"
      ],
      "text/plain": [
       "LogisticRegression(random_state=1)"
      ]
     },
     "execution_count": 58,
     "metadata": {},
     "output_type": "execute_result"
    }
   ],
   "source": [
    "# Train model\n",
    "model.fit(X_train_scaled, y_train)"
   ]
  },
  {
   "cell_type": "code",
   "execution_count": 59,
   "metadata": {},
   "outputs": [],
   "source": [
    "# Predict on a train dataset\n",
    "y_pred_train = model.predict(X_train_scaled)"
   ]
  },
  {
   "cell_type": "code",
   "execution_count": 60,
   "metadata": {},
   "outputs": [
    {
     "name": "stdout",
     "output_type": "stream",
     "text": [
      "Model accuracy on training data: 0.5421108742004265\n"
     ]
    }
   ],
   "source": [
    "print('Model accuracy on training data:', model.score(X_train_scaled, y_train))"
   ]
  },
  {
   "cell_type": "code",
   "execution_count": 61,
   "metadata": {},
   "outputs": [],
   "source": [
    "# Predict on a test dataset\n",
    "y_pred = model.predict(X_test_scaled)"
   ]
  },
  {
   "cell_type": "code",
   "execution_count": 62,
   "metadata": {},
   "outputs": [
    {
     "name": "stdout",
     "output_type": "stream",
     "text": [
      "Model accuracy on testing data: 0.5335463258785943\n"
     ]
    }
   ],
   "source": [
    "print('Model accuracy on testing data:', model.score(X_test_scaled, y_test))"
   ]
  },
  {
   "cell_type": "code",
   "execution_count": 63,
   "metadata": {},
   "outputs": [
    {
     "name": "stdout",
     "output_type": "stream",
     "text": [
      "Model accuracy on training data: 0.5421108742004265\n",
      "Model accuracy on testing data: 0.5335463258785943\n",
      "Precision: 0.509090909090909\n",
      "Recall: 0.09556313993174062\n",
      "F1 Score: 0.16091954022988508\n"
     ]
    }
   ],
   "source": [
    "# Another method to calculate accuracy\n",
    "from sklearn.metrics import accuracy_score ,  precision_score, recall_score, f1_score\n",
    "\n",
    "print('Model accuracy on training data:', accuracy_score(y_train, y_pred_train))\n",
    "print('Model accuracy on testing data:', accuracy_score(y_test, y_pred))\n",
    "\n",
    "# Evaluate the model\n",
    "\n",
    "\n",
    "precision = precision_score(y_test, y_pred)\n",
    "recall = recall_score(y_test, y_pred)\n",
    "f1 = f1_score(y_test, y_pred)\n",
    "\n",
    "# Print evaluation metrics\n",
    "\n",
    "print('Precision:', precision)\n",
    "print('Recall:', recall)\n",
    "print('F1 Score:', f1)\n"
   ]
  },
  {
   "cell_type": "code",
   "execution_count": 64,
   "metadata": {},
   "outputs": [],
   "source": [
    "# Importing necessary packages\n",
    "from sklearn.metrics import confusion_matrix, classification_report"
   ]
  },
  {
   "cell_type": "code",
   "execution_count": 65,
   "metadata": {},
   "outputs": [
    {
     "name": "stdout",
     "output_type": "stream",
     "text": [
      "[[306  27]\n",
      " [265  28]]\n"
     ]
    }
   ],
   "source": [
    "# Printing the confusion matrix\n",
    "print(confusion_matrix(y_test, y_pred))"
   ]
  },
  {
   "cell_type": "code",
   "execution_count": 66,
   "metadata": {},
   "outputs": [
    {
     "data": {
      "image/png": "[encoded data removed]",
      "text/plain": [
       "<Figure size 500x400 with 2 Axes>"
      ]
     },
     "metadata": {},
     "output_type": "display_data"
    }
   ],
   "source": [
    "# Plotting the Confustion matrix\n",
    "cm = confusion_matrix(y_test, y_pred)\n",
    "df = pd.DataFrame(cm, index=['Short', 'Long'], columns=['Short', 'Long'])\n",
    "plt.figure(figsize=(5, 4))\n",
    "sns.heatmap(df, annot=True, fmt='g')\n",
    "plt.xlabel('Predicted')\n",
    "plt.ylabel('Actual')\n",
    "plt.show()"
   ]
  },
  {
   "cell_type": "code",
   "execution_count": 67,
   "metadata": {
    "scrolled": true
   },
   "outputs": [
    {
     "name": "stdout",
     "output_type": "stream",
     "text": [
      "              precision    recall  f1-score   support\n",
      "\n",
      "           0       0.54      0.92      0.68       333\n",
      "           1       0.51      0.10      0.16       293\n",
      "\n",
      "    accuracy                           0.53       626\n",
      "   macro avg       0.52      0.51      0.42       626\n",
      "weighted avg       0.52      0.53      0.44       626\n",
      "\n"
     ]
    }
   ],
   "source": [
    "# Printing the classification report\n",
    "print(classification_report(y_test, y_pred))"
   ]
  },
  {
   "cell_type": "code",
   "execution_count": null,
   "metadata": {},
   "outputs": [],
   "source": []
  },
  {
   "cell_type": "code",
   "execution_count": null,
   "metadata": {},
   "outputs": [],
   "source": []
  }
 ],
 "metadata": {
  "kernelspec": {
   "display_name": "Python 3 (ipykernel)",
   "language": "python",
   "name": "python3"
  },
  "language_info": {
   "codemirror_mode": {
    "name": "ipython",
    "version": 3
   },
   "file_extension": ".py",
   "mimetype": "text/x-python",
   "name": "python",
   "nbconvert_exporter": "python",
   "pygments_lexer": "ipython3",
   "version": "3.10.9"
  }
 },
 "nbformat": 4,
 "nbformat_minor": 2
}
