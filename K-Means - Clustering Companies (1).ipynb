{
 "cells": [
  {
   "cell_type": "markdown",
   "id": "723ffa0f",
   "metadata": {},
   "source": [
    "# K-means clustering"
   ]
  },
  {
   "cell_type": "markdown",
   "id": "f86e06e6",
   "metadata": {},
   "source": [
    "K-means clustering is a useful tool for categorizing stocks based on shared financial characteristics. By selecting and normalizing relevant features, such as price-to-earnings ratio or volatility, the algorithm groups stocks into clusters. The number of clusters, denoted as K, is determined beforehand. This technique aids in identifying similarities among stocks, offering insights for portfolio management and risk analysis. Visualization helps validate the clustering results. While K-means clustering provides valuable insights, careful consideration of feature selection and interpretation is essential for meaningful outcomes.\n",
    "\n",
    "\n",
    "\n",
    "\n",
    "\n"
   ]
  },
  {
   "cell_type": "markdown",
   "id": "01f8cde4",
   "metadata": {},
   "source": [
    "## Aim\n",
    "\n",
    "Cluster NIFTY50 companies into different clusters based on past 1-year volatility and returns."
   ]
  },
  {
   "cell_type": "markdown",
   "id": "99eaf66e",
   "metadata": {},
   "source": [
    "# 1. Import necessary liabraries"
   ]
  },
  {
   "cell_type": "code",
   "execution_count": 1,
   "id": "66df42da",
   "metadata": {},
   "outputs": [],
   "source": [
    "# Import necessary libraries\n",
    "import pandas as pd\n",
    "import numpy as np\n",
    "import matplotlib.pyplot as plt\n",
    "import seaborn as sns\n",
    "import warnings\n",
    "import yfinance as yf\n",
    "\n",
    "warnings.filterwarnings('ignore')"
   ]
  },
  {
   "cell_type": "markdown",
   "id": "8e3c753f",
   "metadata": {},
   "source": [
    "## 2. Stocks data"
   ]
  },
  {
   "cell_type": "code",
   "execution_count": 2,
   "id": "806a21ee",
   "metadata": {
    "scrolled": true
   },
   "outputs": [],
   "source": [
    "# Nifty 50 companies\n",
    "stock_list = ['ADANIENT','ADANIPORTS','APOLLOHOSP','ASIANPAINT','AXISBANK','BAJAJ-AUTO','BAJFINANCE','BAJAJFINSV','BPCL',\n",
    "'BHARTIARTL','BRITANNIA','CIPLA','COALINDIA','DIVISLAB','DRREDDY','EICHERMOT','GRASIM','HCLTECH','HDFCBANK','HDFCLIFE',\n",
    "'HEROMOTOCO','HINDALCO','HINDUNILVR','ICICIBANK','ITC','INDUSINDBK','INFY','JSWSTEEL','KOTAKBANK','LTIM','LT','M&M',\n",
    "'MARUTI','NTPC','NESTLEIND','ONGC','POWERGRID','RELIANCE','SBILIFE','SBIN','SUNPHARMA','TCS','TATACONSUM','TATAMOTORS',\n",
    "'TATASTEEL', 'TECHM', 'TITAN', 'UPL', 'ULTRACEMCO','WIPRO']"
   ]
  },
  {
   "cell_type": "code",
   "execution_count": 3,
   "id": "f3ba9732",
   "metadata": {},
   "outputs": [
    {
     "name": "stdout",
     "output_type": "stream",
     "text": [
      "[*********************100%***********************]  50 of 50 completed\n"
     ]
    }
   ],
   "source": [
    "# Download past 1-year data for all symbols\n",
    "data = yf.download([ x+'.NS'for x in stock_list], period='1y', auto_adjust=True)\n",
    "\n",
    "# Extract Close data\n",
    "data = data['Close']"
   ]
  },
  {
   "cell_type": "code",
   "execution_count": 4,
   "id": "447016e8",
   "metadata": {},
   "outputs": [],
   "source": [
    "# Drop NaN values\n",
    "data.dropna(axis=1, inplace=True)"
   ]
  },
  {
   "cell_type": "markdown",
   "id": "56490c37",
   "metadata": {},
   "source": [
    "## 3. Feature Extraction"
   ]
  },
  {
   "cell_type": "code",
   "execution_count": 5,
   "id": "13c08878",
   "metadata": {},
   "outputs": [],
   "source": [
    "# Create an empty dataframe\n",
    "stocks_df = pd.DataFrame()\n",
    "\n",
    "# Generate features\n",
    "stocks_df['returns'] = (data.pct_change().dropna() + 1).prod() - 1\n",
    "stocks_df['volatility'] = data.pct_change().dropna().std() * np.sqrt(252)"
   ]
  },
  {
   "cell_type": "code",
   "execution_count": 6,
   "id": "4c687dd8",
   "metadata": {},
   "outputs": [
    {
     "data": {
      "text/html": [
       "<div>\n",
       "<style scoped>\n",
       "    .dataframe tbody tr th:only-of-type {\n",
       "        vertical-align: middle;\n",
       "    }\n",
       "\n",
       "    .dataframe tbody tr th {\n",
       "        vertical-align: top;\n",
       "    }\n",
       "\n",
       "    .dataframe thead th {\n",
       "        text-align: right;\n",
       "    }\n",
       "</style>\n",
       "<table border=\"1\" class=\"dataframe\">\n",
       "  <thead>\n",
       "    <tr style=\"text-align: right;\">\n",
       "      <th></th>\n",
       "      <th>returns</th>\n",
       "      <th>volatility</th>\n",
       "    </tr>\n",
       "  </thead>\n",
       "  <tbody>\n",
       "    <tr>\n",
       "      <th>count</th>\n",
       "      <td>50.000000</td>\n",
       "      <td>50.000000</td>\n",
       "    </tr>\n",
       "    <tr>\n",
       "      <th>mean</th>\n",
       "      <td>0.393897</td>\n",
       "      <td>0.237021</td>\n",
       "    </tr>\n",
       "    <tr>\n",
       "      <th>std</th>\n",
       "      <td>0.417584</td>\n",
       "      <td>0.121391</td>\n",
       "    </tr>\n",
       "    <tr>\n",
       "      <th>min</th>\n",
       "      <td>-0.867667</td>\n",
       "      <td>0.153001</td>\n",
       "    </tr>\n",
       "    <tr>\n",
       "      <th>25%</th>\n",
       "      <td>0.183898</td>\n",
       "      <td>0.187899</td>\n",
       "    </tr>\n",
       "    <tr>\n",
       "      <th>50%</th>\n",
       "      <td>0.280554</td>\n",
       "      <td>0.213760</td>\n",
       "    </tr>\n",
       "    <tr>\n",
       "      <th>75%</th>\n",
       "      <td>0.552242</td>\n",
       "      <td>0.242969</td>\n",
       "    </tr>\n",
       "    <tr>\n",
       "      <th>max</th>\n",
       "      <td>1.746092</td>\n",
       "      <td>0.925012</td>\n",
       "    </tr>\n",
       "  </tbody>\n",
       "</table>\n",
       "</div>"
      ],
      "text/plain": [
       "         returns  volatility\n",
       "count  50.000000   50.000000\n",
       "mean    0.393897    0.237021\n",
       "std     0.417584    0.121391\n",
       "min    -0.867667    0.153001\n",
       "25%     0.183898    0.187899\n",
       "50%     0.280554    0.213760\n",
       "75%     0.552242    0.242969\n",
       "max     1.746092    0.925012"
      ]
     },
     "execution_count": 6,
     "metadata": {},
     "output_type": "execute_result"
    }
   ],
   "source": [
    "# Verify summary statistics\n",
    "stocks_df.describe()"
   ]
  },
  {
   "cell_type": "code",
   "execution_count": 7,
   "id": "c80a37cd",
   "metadata": {},
   "outputs": [
    {
     "data": {
      "text/plain": [
       "<Axes: xlabel='returns', ylabel='volatility'>"
      ]
     },
     "execution_count": 7,
     "metadata": {},
     "output_type": "execute_result"
    },
    {
     "data": {
      "image/png": "[encoded data removed]",
      "text/plain": [
       "<Figure size 640x480 with 1 Axes>"
      ]
     },
     "metadata": {},
     "output_type": "display_data"
    }
   ],
   "source": [
    "# Visualize how returns and volatility are related\n",
    "sns.scatterplot(stocks_df, x='returns', y='volatility')"
   ]
  },
  {
   "cell_type": "markdown",
   "id": "8a563f96",
   "metadata": {},
   "source": [
    "## 4. Feature Scaling"
   ]
  },
  {
   "cell_type": "code",
   "execution_count": 8,
   "id": "c591f98a",
   "metadata": {},
   "outputs": [],
   "source": [
    "# Import the required library\n",
    "from sklearn.preprocessing import StandardScaler"
   ]
  },
  {
   "cell_type": "code",
   "execution_count": 9,
   "id": "bb77b8c2",
   "metadata": {},
   "outputs": [],
   "source": [
    "# Define a scaler object\n",
    "scaler = StandardScaler()\n",
    "stocks_df_scaled = scaler.fit_transform(stocks_df)"
   ]
  },
  {
   "cell_type": "code",
   "execution_count": 10,
   "id": "2b13bfb0",
   "metadata": {},
   "outputs": [],
   "source": [
    "# Store the scaled data\n",
    "stocks_df = pd.DataFrame(stocks_df_scaled, columns=['returns', 'volatility'])"
   ]
  },
  {
   "cell_type": "code",
   "execution_count": 11,
   "id": "2b13d47a",
   "metadata": {},
   "outputs": [
    {
     "data": {
      "text/html": [
       "<div>\n",
       "<style scoped>\n",
       "    .dataframe tbody tr th:only-of-type {\n",
       "        vertical-align: middle;\n",
       "    }\n",
       "\n",
       "    .dataframe tbody tr th {\n",
       "        vertical-align: top;\n",
       "    }\n",
       "\n",
       "    .dataframe thead th {\n",
       "        text-align: right;\n",
       "    }\n",
       "</style>\n",
       "<table border=\"1\" class=\"dataframe\">\n",
       "  <thead>\n",
       "    <tr style=\"text-align: right;\">\n",
       "      <th></th>\n",
       "      <th>returns</th>\n",
       "      <th>volatility</th>\n",
       "    </tr>\n",
       "  </thead>\n",
       "  <tbody>\n",
       "    <tr>\n",
       "      <th>count</th>\n",
       "      <td>5.000000e+01</td>\n",
       "      <td>5.000000e+01</td>\n",
       "    </tr>\n",
       "    <tr>\n",
       "      <th>mean</th>\n",
       "      <td>1.110223e-17</td>\n",
       "      <td>4.019007e-16</td>\n",
       "    </tr>\n",
       "    <tr>\n",
       "      <th>std</th>\n",
       "      <td>1.010153e+00</td>\n",
       "      <td>1.010153e+00</td>\n",
       "    </tr>\n",
       "    <tr>\n",
       "      <th>min</th>\n",
       "      <td>-3.051778e+00</td>\n",
       "      <td>-6.991718e-01</td>\n",
       "    </tr>\n",
       "    <tr>\n",
       "      <th>25%</th>\n",
       "      <td>-5.079973e-01</td>\n",
       "      <td>-4.087651e-01</td>\n",
       "    </tr>\n",
       "    <tr>\n",
       "      <th>50%</th>\n",
       "      <td>-2.741815e-01</td>\n",
       "      <td>-1.935678e-01</td>\n",
       "    </tr>\n",
       "    <tr>\n",
       "      <th>75%</th>\n",
       "      <td>3.830428e-01</td>\n",
       "      <td>4.949504e-02</td>\n",
       "    </tr>\n",
       "    <tr>\n",
       "      <th>max</th>\n",
       "      <td>3.271019e+00</td>\n",
       "      <td>5.725100e+00</td>\n",
       "    </tr>\n",
       "  </tbody>\n",
       "</table>\n",
       "</div>"
      ],
      "text/plain": [
       "            returns    volatility\n",
       "count  5.000000e+01  5.000000e+01\n",
       "mean   1.110223e-17  4.019007e-16\n",
       "std    1.010153e+00  1.010153e+00\n",
       "min   -3.051778e+00 -6.991718e-01\n",
       "25%   -5.079973e-01 -4.087651e-01\n",
       "50%   -2.741815e-01 -1.935678e-01\n",
       "75%    3.830428e-01  4.949504e-02\n",
       "max    3.271019e+00  5.725100e+00"
      ]
     },
     "execution_count": 11,
     "metadata": {},
     "output_type": "execute_result"
    }
   ],
   "source": [
    "# Verify the summary statistics\n",
    "stocks_df.describe()"
   ]
  },
  {
   "cell_type": "markdown",
   "id": "0dae9bb8",
   "metadata": {},
   "source": [
    "## 5. Perform Clustering (Build Model)"
   ]
  },
  {
   "cell_type": "code",
   "execution_count": 12,
   "id": "3e93b093",
   "metadata": {},
   "outputs": [],
   "source": [
    "# Import the K-Means algorithm\n",
    "from sklearn.cluster import KMeans"
   ]
  },
  {
   "cell_type": "code",
   "execution_count": 13,
   "id": "e29019e4",
   "metadata": {},
   "outputs": [],
   "source": [
    "KMeans?"
   ]
  },
  {
   "cell_type": "code",
   "execution_count": 14,
   "id": "27c0e175",
   "metadata": {},
   "outputs": [],
   "source": [
    "# Build the model\n",
    "km_model = KMeans(n_clusters=6).fit(stocks_df)"
   ]
  },
  {
   "cell_type": "markdown",
   "id": "c288bb2b",
   "metadata": {},
   "source": [
    "n_clusters=6: This parameter specifies the number of clusters that the algorithm should aim to create. In this case, it's set to 6, meaning that the algorithm will try to group the data into six clusters."
   ]
  },
  {
   "cell_type": "code",
   "execution_count": 15,
   "id": "2d9499dc",
   "metadata": {},
   "outputs": [],
   "source": [
    "# Obtain a list of cluster labels\n",
    "stocks_df['cluster'] = km_model.labels_"
   ]
  },
  {
   "cell_type": "markdown",
   "id": "8e80fe26",
   "metadata": {},
   "source": [
    "km_model.labels_: The labels_ attribute of the KMeans model contains the cluster labels assigned to each data point in the input dataset during the fitting process.\n",
    "\n",
    "=: The assignment operator is used to assign the cluster labels obtained from km_model.labels_ to the newly created 'cluster' column."
   ]
  },
  {
   "cell_type": "code",
   "execution_count": 16,
   "id": "6229c766",
   "metadata": {},
   "outputs": [
    {
     "data": {
      "image/png": "[encoded data removed]",
      "text/plain": [
       "<Figure size 800x500 with 1 Axes>"
      ]
     },
     "metadata": {},
     "output_type": "display_data"
    }
   ],
   "source": [
    "# Set graph size\n",
    "plt.figure(figsize=(8, 5))\n",
    "\n",
    "# Set x and y axis labels\n",
    "ax = sns.scatterplot(y=\"volatility\", x=\"returns\", edgecolor='face', hue=\"cluster\", \n",
    "                     data=stocks_df, palette='bright', s=60)\n",
    "\n",
    "# Plot the graph\n",
    "plt.xlabel('Returns')\n",
    "plt.ylabel('Volatillity')\n",
    "plt.setp(ax.get_legend().get_texts(), fontsize='15')\n",
    "plt.setp(ax.get_legend().get_title(), fontsize='15')\n",
    "plt.title('CLUSTERS from k-means algorithm with k = 3', fontsize='x-large')\n",
    "plt.show()"
   ]
  },
  {
   "cell_type": "markdown",
   "id": "b625ade8",
   "metadata": {},
   "source": [
    "y=\"volatility\" and x=\"returns\": These parameters specify the variables to be plotted on the y-axis and x-axis, respectively. In this case, the \"volatility\" column is plotted on the y-axis, and the \"returns\" column is plotted on the x-axis.\n",
    "\n",
    "edgecolor='face': This parameter sets the edge color of the markers to be the same as the face color. It can be used to make the markers visually seamless.\n",
    "\n",
    "hue=\"cluster\": This parameter assigns colors to data points based on the values in the \"cluster\" column. Each cluster will be represented by a different color in the plot.\n",
    "\n",
    "data=stocks_df: This parameter specifies the DataFrame (stocks_df) containing the data to be plotted.\n",
    "\n",
    "palette='bright': This parameter sets the color palette to be used for the clusters. The 'bright' palette typically includes a set of distinct and visually appealing colors.\n",
    "\n",
    "s=60: This parameter sets the size of the markers in the scatter plot. In this case, markers are set to be relatively large (size 60).\n",
    "\n",
    "ax = ...: This line assigns the resulting plot to the variable ax. This variable can be used later to modify or annotate the plot if needed."
   ]
  },
  {
   "cell_type": "markdown",
   "id": "12e55e73",
   "metadata": {},
   "source": [
    "### Model Intertia\n",
    "\n",
    "Inertia measures how well a dataset was clustered by K-Means.\n",
    "\n",
    "The below code calculates the inertia for different numbers of clusters (k) using the K-Means algorithm. Inertia is a measure of how well a dataset was clustered by K-Means, and it represents the sum of squared distances between data points and their assigned cluster centers. Lower inertia values indicate better-defined clusters. "
   ]
  },
  {
   "cell_type": "code",
   "execution_count": 17,
   "id": "be439287",
   "metadata": {},
   "outputs": [
    {
     "data": {
      "image/png": "[encoded data removed]",
      "text/plain": [
       "<Figure size 800x500 with 1 Axes>"
      ]
     },
     "metadata": {},
     "output_type": "display_data"
    }
   ],
   "source": [
    " # Calculating inertia for k-means models\n",
    "# with different values of 'k'\n",
    "inertia = []\n",
    "\n",
    "k_range = range(1, 10) # Range of values for the number of clusters (k)\n",
    "\n",
    "for k in k_range:\n",
    "    model = KMeans(n_clusters=k) # Create a K-Means model with k clusters\n",
    "    model.fit(stocks_df[['returns', 'volatility']]) # Fit the model to the specified features\n",
    "    inertia.append(model.inertia_) # Append the inertia value to the list\n",
    "\n",
    "# Plotting the 'elbow curve'\n",
    "plt.figure(figsize=(8, 5))\n",
    "plt.xlabel('K-value')\n",
    "plt.ylabel('Model Inertia')\n",
    "plt.plot(k_range, inertia, color='blue')\n",
    "plt.show()"
   ]
  },
  {
   "cell_type": "code",
   "execution_count": 21,
   "id": "0494a712",
   "metadata": {},
   "outputs": [
    {
     "name": "stdout",
     "output_type": "stream",
     "text": [
      "       Company  cluster\n",
      "1   ADANIPORTS        0\n",
      "49       WIPRO        1\n",
      "37    RELIANCE        1\n",
      "32      MARUTI        1\n",
      "31         M&M        1\n",
      "30          LT        1\n",
      "28   KOTAKBANK        1\n",
      "27    JSWSTEEL        1\n",
      "26        INFY        1\n",
      "25  INDUSINDBK        1\n",
      "48  ULTRACEMCO        1\n",
      "23   ICICIBANK        1\n",
      "22  HINDUNILVR        1\n",
      "21    HINDALCO        1\n",
      "38     SBILIFE        1\n",
      "18    HDFCBANK        1\n",
      "19    HDFCLIFE        1\n",
      "6   BAJFINANCE        1\n",
      "3   ASIANPAINT        1\n",
      "4     AXISBANK        1\n",
      "43  TATAMOTORS        1\n",
      "7   BAJAJFINSV        1\n",
      "10   BRITANNIA        1\n",
      "39        SBIN        1\n",
      "13    DIVISLAB        1\n",
      "44   TATASTEEL        1\n",
      "15   EICHERMOT        1\n",
      "33        NTPC        2\n",
      "12   COALINDIA        3\n",
      "9   BHARTIARTL        3\n",
      "20  HEROMOTOCO        3\n",
      "5   BAJAJ-AUTO        3\n",
      "34   NESTLEIND        3\n",
      "35        ONGC        3\n",
      "36   POWERGRID        3\n",
      "42  TATACONSUM        3\n",
      "46       TITAN        4\n",
      "41         TCS        4\n",
      "47         UPL        4\n",
      "45       TECHM        4\n",
      "24         ITC        4\n",
      "29        LTIM        4\n",
      "17     HCLTECH        4\n",
      "16      GRASIM        4\n",
      "14     DRREDDY        4\n",
      "11       CIPLA        4\n",
      "8         BPCL        4\n",
      "2   APOLLOHOSP        4\n",
      "40   SUNPHARMA        4\n",
      "0     ADANIENT        5\n"
     ]
    }
   ],
   "source": [
    "\n",
    "\n",
    "# Create a new column 'Company' to store the stock symbols\n",
    "stocks_df['Company'] = stock_list\n",
    "\n",
    "# Display the cluster assignment for each company in ascending order of clusters\n",
    "clustered_stock = stocks_df[['Company', 'cluster']].sort_values(by='cluster')\n",
    "print(clustered_stock)\n"
   ]
  },
  {
   "cell_type": "code",
   "execution_count": null,
   "id": "a7806006",
   "metadata": {},
   "outputs": [],
   "source": []
  }
 ],
 "metadata": {
  "kernelspec": {
   "display_name": "Python 3 (ipykernel)",
   "language": "python",
   "name": "python3"
  },
  "language_info": {
   "codemirror_mode": {
    "name": "ipython",
    "version": 3
   },
   "file_extension": ".py",
   "mimetype": "text/x-python",
   "name": "python",
   "nbconvert_exporter": "python",
   "pygments_lexer": "ipython3",
   "version": "3.10.9"
  }
 },
 "nbformat": 4,
 "nbformat_minor": 5
}
