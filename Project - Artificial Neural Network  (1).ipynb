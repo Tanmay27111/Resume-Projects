{
 "cells": [
  {
   "cell_type": "markdown",
   "metadata": {},
   "source": [
    "# Artificial Neural Network"
   ]
  },
  {
   "cell_type": "markdown",
   "metadata": {},
   "source": [
    "An Artificial Neural Network (ANN) is a machine learning model inspired by the human brain's neural structure. It consists of interconnected nodes, or neurons, organized into layers: an input layer, hidden layers, and an output layer. Each connection between nodes has a weight, and nodes apply an activation function to their weighted inputs. During training, the network adjusts weights to minimize the difference between predicted and actual outputs. ANNs excel in complex tasks, learning patterns, and making predictions.\n",
    "\n"
   ]
  },
  {
   "cell_type": "markdown",
   "metadata": {},
   "source": [
    "Used ANN for classification as well as regression task "
   ]
  },
  {
   "cell_type": "code",
   "execution_count": 72,
   "metadata": {
    "scrolled": true
   },
   "outputs": [],
   "source": [
    "# Import libraries\n",
    "import pandas as pd\n",
    "import numpy as np\n",
    "import matplotlib.pyplot as plt\n",
    "import seaborn as sns\n",
    "import yfinance as yf\n",
    "import talib as ta"
   ]
  },
  {
   "cell_type": "code",
   "execution_count": 32,
   "metadata": {},
   "outputs": [
    {
     "name": "stdout",
     "output_type": "stream",
     "text": [
      "[*********************100%***********************]  1 of 1 completed\n"
     ]
    }
   ],
   "source": [
    "# download historical prices\n",
    "df = yf.download('EURUSD=X',start='2009-12-31',end='2018-12-28')"
   ]
  },
  {
   "cell_type": "code",
   "execution_count": 33,
   "metadata": {},
   "outputs": [],
   "source": [
    "# Copying the original dataframe. Will work on the new dataframe.\n",
    "data = df.copy()\n"
   ]
  },
  {
   "cell_type": "code",
   "execution_count": 34,
   "metadata": {},
   "outputs": [
    {
     "data": {
      "text/html": [
       "<div>\n",
       "<style scoped>\n",
       "    .dataframe tbody tr th:only-of-type {\n",
       "        vertical-align: middle;\n",
       "    }\n",
       "\n",
       "    .dataframe tbody tr th {\n",
       "        vertical-align: top;\n",
       "    }\n",
       "\n",
       "    .dataframe thead th {\n",
       "        text-align: right;\n",
       "    }\n",
       "</style>\n",
       "<table border=\"1\" class=\"dataframe\">\n",
       "  <thead>\n",
       "    <tr style=\"text-align: right;\">\n",
       "      <th></th>\n",
       "      <th>Open</th>\n",
       "      <th>High</th>\n",
       "      <th>Low</th>\n",
       "      <th>Close</th>\n",
       "      <th>Adj Close</th>\n",
       "      <th>Volume</th>\n",
       "    </tr>\n",
       "    <tr>\n",
       "      <th>Date</th>\n",
       "      <th></th>\n",
       "      <th></th>\n",
       "      <th></th>\n",
       "      <th></th>\n",
       "      <th></th>\n",
       "      <th></th>\n",
       "    </tr>\n",
       "  </thead>\n",
       "  <tbody>\n",
       "    <tr>\n",
       "      <th>2009-12-31</th>\n",
       "      <td>1.434206</td>\n",
       "      <td>1.443897</td>\n",
       "      <td>1.431045</td>\n",
       "      <td>1.432706</td>\n",
       "      <td>1.432706</td>\n",
       "      <td>0</td>\n",
       "    </tr>\n",
       "    <tr>\n",
       "      <th>2010-01-01</th>\n",
       "      <td>1.432706</td>\n",
       "      <td>1.440196</td>\n",
       "      <td>1.432706</td>\n",
       "      <td>1.438994</td>\n",
       "      <td>1.438994</td>\n",
       "      <td>0</td>\n",
       "    </tr>\n",
       "    <tr>\n",
       "      <th>2010-01-04</th>\n",
       "      <td>1.431004</td>\n",
       "      <td>1.445191</td>\n",
       "      <td>1.426208</td>\n",
       "      <td>1.442398</td>\n",
       "      <td>1.442398</td>\n",
       "      <td>0</td>\n",
       "    </tr>\n",
       "    <tr>\n",
       "      <th>2010-01-05</th>\n",
       "      <td>1.442710</td>\n",
       "      <td>1.448310</td>\n",
       "      <td>1.435194</td>\n",
       "      <td>1.436596</td>\n",
       "      <td>1.436596</td>\n",
       "      <td>0</td>\n",
       "    </tr>\n",
       "    <tr>\n",
       "      <th>2010-01-06</th>\n",
       "      <td>1.436596</td>\n",
       "      <td>1.443460</td>\n",
       "      <td>1.429123</td>\n",
       "      <td>1.440403</td>\n",
       "      <td>1.440403</td>\n",
       "      <td>0</td>\n",
       "    </tr>\n",
       "  </tbody>\n",
       "</table>\n",
       "</div>"
      ],
      "text/plain": [
       "                Open      High       Low     Close  Adj Close  Volume\n",
       "Date                                                                 \n",
       "2009-12-31  1.434206  1.443897  1.431045  1.432706   1.432706       0\n",
       "2010-01-01  1.432706  1.440196  1.432706  1.438994   1.438994       0\n",
       "2010-01-04  1.431004  1.445191  1.426208  1.442398   1.442398       0\n",
       "2010-01-05  1.442710  1.448310  1.435194  1.436596   1.436596       0\n",
       "2010-01-06  1.436596  1.443460  1.429123  1.440403   1.440403       0"
      ]
     },
     "execution_count": 34,
     "metadata": {},
     "output_type": "execute_result"
    }
   ],
   "source": [
    "data.head()"
   ]
  },
  {
   "cell_type": "markdown",
   "metadata": {},
   "source": [
    "### Feature Engineering"
   ]
  },
  {
   "cell_type": "code",
   "execution_count": 35,
   "metadata": {},
   "outputs": [],
   "source": [
    "# Creating features\n",
    "features_list = []\n",
    "\n",
    "# SD based features\n",
    "for i in range(5, 20, 5):\n",
    "    col_name = 'std_' + str(i)\n",
    "    data[col_name] = data['Close'].rolling(window=i).std()\n",
    "    features_list.append(col_name)\n",
    "    \n",
    "# MA based features\n",
    "for i in range(10, 30, 5):\n",
    "    col_name = 'ma_' + str(i)\n",
    "    data[col_name] = data['Close'].rolling(window=i).mean()\n",
    "    features_list.append(col_name)\n",
    "    \n",
    "# Daily pct change based features\n",
    "for i in range(3, 12, 3):\n",
    "    col_name = 'pct_' + str(i)\n",
    "    data[col_name] = data['Close'].pct_change().rolling(i).sum()\n",
    "    features_list.append(col_name)\n",
    "    \n",
    "# Intraday movement\n",
    "col_name = 'co'\n",
    "data[col_name] = data['Close'] - data['Open']\n",
    "features_list.append(col_name)"
   ]
  },
  {
   "cell_type": "code",
   "execution_count": 36,
   "metadata": {},
   "outputs": [
    {
     "data": {
      "text/plain": [
       "['std_5',\n",
       " 'std_10',\n",
       " 'std_15',\n",
       " 'ma_10',\n",
       " 'ma_15',\n",
       " 'ma_20',\n",
       " 'ma_25',\n",
       " 'pct_3',\n",
       " 'pct_6',\n",
       " 'pct_9',\n",
       " 'co']"
      ]
     },
     "execution_count": 36,
     "metadata": {},
     "output_type": "execute_result"
    }
   ],
   "source": [
    "features_list"
   ]
  },
  {
   "cell_type": "code",
   "execution_count": 37,
   "metadata": {},
   "outputs": [],
   "source": [
    "# bollinger band\n",
    "data['upper_band'], data['middle_band'], data['lower_band'] = ta.BBANDS(data['Close'].values)\n",
    "\n",
    "#MACD\n",
    "data['macd'], data['macdsignal'], data['macdhist'] = ta.MACD(data['Close'].values)\n",
    "\n",
    "#SAR\n",
    "data['sar'] = ta.SAR(data['High'].values, data['Low'].values)\n",
    "\n",
    "\n",
    "features_list +=['upper_band','middle_band','lower_band','macd','sar']"
   ]
  },
  {
   "cell_type": "code",
   "execution_count": 38,
   "metadata": {},
   "outputs": [
    {
     "data": {
      "text/plain": [
       "['std_5',\n",
       " 'std_10',\n",
       " 'std_15',\n",
       " 'ma_10',\n",
       " 'ma_15',\n",
       " 'ma_20',\n",
       " 'ma_25',\n",
       " 'pct_3',\n",
       " 'pct_6',\n",
       " 'pct_9',\n",
       " 'co',\n",
       " 'upper_band',\n",
       " 'middle_band',\n",
       " 'lower_band',\n",
       " 'macd',\n",
       " 'sar']"
      ]
     },
     "execution_count": 38,
     "metadata": {},
     "output_type": "execute_result"
    }
   ],
   "source": [
    "features_list"
   ]
  },
  {
   "cell_type": "code",
   "execution_count": 39,
   "metadata": {},
   "outputs": [],
   "source": [
    "data.dropna(inplace=True)"
   ]
  },
  {
   "cell_type": "code",
   "execution_count": 40,
   "metadata": {},
   "outputs": [
    {
     "data": {
      "text/html": [
       "<div>\n",
       "<style scoped>\n",
       "    .dataframe tbody tr th:only-of-type {\n",
       "        vertical-align: middle;\n",
       "    }\n",
       "\n",
       "    .dataframe tbody tr th {\n",
       "        vertical-align: top;\n",
       "    }\n",
       "\n",
       "    .dataframe thead th {\n",
       "        text-align: right;\n",
       "    }\n",
       "</style>\n",
       "<table border=\"1\" class=\"dataframe\">\n",
       "  <thead>\n",
       "    <tr style=\"text-align: right;\">\n",
       "      <th></th>\n",
       "      <th>std_5</th>\n",
       "      <th>std_10</th>\n",
       "      <th>std_15</th>\n",
       "      <th>ma_10</th>\n",
       "      <th>ma_15</th>\n",
       "      <th>ma_20</th>\n",
       "      <th>ma_25</th>\n",
       "      <th>pct_3</th>\n",
       "      <th>pct_6</th>\n",
       "      <th>pct_9</th>\n",
       "      <th>co</th>\n",
       "      <th>upper_band</th>\n",
       "      <th>middle_band</th>\n",
       "      <th>lower_band</th>\n",
       "      <th>macd</th>\n",
       "      <th>sar</th>\n",
       "    </tr>\n",
       "    <tr>\n",
       "      <th>Date</th>\n",
       "      <th></th>\n",
       "      <th></th>\n",
       "      <th></th>\n",
       "      <th></th>\n",
       "      <th></th>\n",
       "      <th></th>\n",
       "      <th></th>\n",
       "      <th></th>\n",
       "      <th></th>\n",
       "      <th></th>\n",
       "      <th></th>\n",
       "      <th></th>\n",
       "      <th></th>\n",
       "      <th></th>\n",
       "      <th></th>\n",
       "      <th></th>\n",
       "    </tr>\n",
       "  </thead>\n",
       "  <tbody>\n",
       "    <tr>\n",
       "      <th>2010-02-16</th>\n",
       "      <td>0.007174</td>\n",
       "      <td>0.008744</td>\n",
       "      <td>0.013772</td>\n",
       "      <td>1.372029</td>\n",
       "      <td>1.379814</td>\n",
       "      <td>1.387765</td>\n",
       "      <td>1.398622</td>\n",
       "      <td>0.006298</td>\n",
       "      <td>0.008339</td>\n",
       "      <td>-0.009467</td>\n",
       "      <td>0.016979</td>\n",
       "      <td>1.381636</td>\n",
       "      <td>1.368802</td>\n",
       "      <td>1.355968</td>\n",
       "      <td>-0.020450</td>\n",
       "      <td>1.353308</td>\n",
       "    </tr>\n",
       "    <tr>\n",
       "      <th>2010-02-17</th>\n",
       "      <td>0.006823</td>\n",
       "      <td>0.006695</td>\n",
       "      <td>0.012981</td>\n",
       "      <td>1.369088</td>\n",
       "      <td>1.376987</td>\n",
       "      <td>1.385247</td>\n",
       "      <td>1.394954</td>\n",
       "      <td>-0.001914</td>\n",
       "      <td>-0.012626</td>\n",
       "      <td>-0.009872</td>\n",
       "      <td>-0.015846</td>\n",
       "      <td>1.378081</td>\n",
       "      <td>1.365875</td>\n",
       "      <td>1.353669</td>\n",
       "      <td>-0.020266</td>\n",
       "      <td>1.353797</td>\n",
       "    </tr>\n",
       "    <tr>\n",
       "      <th>2010-02-18</th>\n",
       "      <td>0.010875</td>\n",
       "      <td>0.009546</td>\n",
       "      <td>0.014006</td>\n",
       "      <td>1.366253</td>\n",
       "      <td>1.373610</td>\n",
       "      <td>1.382070</td>\n",
       "      <td>1.390800</td>\n",
       "      <td>-0.010262</td>\n",
       "      <td>-0.021224</td>\n",
       "      <td>-0.015841</td>\n",
       "      <td>-0.014914</td>\n",
       "      <td>1.380923</td>\n",
       "      <td>1.361469</td>\n",
       "      <td>1.342016</td>\n",
       "      <td>-0.021051</td>\n",
       "      <td>1.378873</td>\n",
       "    </tr>\n",
       "    <tr>\n",
       "      <th>2010-02-19</th>\n",
       "      <td>0.010818</td>\n",
       "      <td>0.009634</td>\n",
       "      <td>0.013834</td>\n",
       "      <td>1.365603</td>\n",
       "      <td>1.371931</td>\n",
       "      <td>1.379440</td>\n",
       "      <td>1.387697</td>\n",
       "      <td>-0.010913</td>\n",
       "      <td>-0.004615</td>\n",
       "      <td>-0.002574</td>\n",
       "      <td>0.014452</td>\n",
       "      <td>1.380425</td>\n",
       "      <td>1.361072</td>\n",
       "      <td>1.341720</td>\n",
       "      <td>-0.020201</td>\n",
       "      <td>1.378873</td>\n",
       "    </tr>\n",
       "    <tr>\n",
       "      <th>2010-02-22</th>\n",
       "      <td>0.010814</td>\n",
       "      <td>0.009766</td>\n",
       "      <td>0.012841</td>\n",
       "      <td>1.365113</td>\n",
       "      <td>1.369788</td>\n",
       "      <td>1.376718</td>\n",
       "      <td>1.384492</td>\n",
       "      <td>0.000027</td>\n",
       "      <td>-0.001887</td>\n",
       "      <td>-0.012599</td>\n",
       "      <td>-0.002337</td>\n",
       "      <td>1.380469</td>\n",
       "      <td>1.361124</td>\n",
       "      <td>1.341779</td>\n",
       "      <td>-0.019380</td>\n",
       "      <td>1.378196</td>\n",
       "    </tr>\n",
       "  </tbody>\n",
       "</table>\n",
       "</div>"
      ],
      "text/plain": [
       "               std_5    std_10    std_15     ma_10     ma_15     ma_20  \\\n",
       "Date                                                                     \n",
       "2010-02-16  0.007174  0.008744  0.013772  1.372029  1.379814  1.387765   \n",
       "2010-02-17  0.006823  0.006695  0.012981  1.369088  1.376987  1.385247   \n",
       "2010-02-18  0.010875  0.009546  0.014006  1.366253  1.373610  1.382070   \n",
       "2010-02-19  0.010818  0.009634  0.013834  1.365603  1.371931  1.379440   \n",
       "2010-02-22  0.010814  0.009766  0.012841  1.365113  1.369788  1.376718   \n",
       "\n",
       "               ma_25     pct_3     pct_6     pct_9        co  upper_band  \\\n",
       "Date                                                                       \n",
       "2010-02-16  1.398622  0.006298  0.008339 -0.009467  0.016979    1.381636   \n",
       "2010-02-17  1.394954 -0.001914 -0.012626 -0.009872 -0.015846    1.378081   \n",
       "2010-02-18  1.390800 -0.010262 -0.021224 -0.015841 -0.014914    1.380923   \n",
       "2010-02-19  1.387697 -0.010913 -0.004615 -0.002574  0.014452    1.380425   \n",
       "2010-02-22  1.384492  0.000027 -0.001887 -0.012599 -0.002337    1.380469   \n",
       "\n",
       "            middle_band  lower_band      macd       sar  \n",
       "Date                                                     \n",
       "2010-02-16     1.368802    1.355968 -0.020450  1.353308  \n",
       "2010-02-17     1.365875    1.353669 -0.020266  1.353797  \n",
       "2010-02-18     1.361469    1.342016 -0.021051  1.378873  \n",
       "2010-02-19     1.361072    1.341720 -0.020201  1.378873  \n",
       "2010-02-22     1.361124    1.341779 -0.019380  1.378196  "
      ]
     },
     "execution_count": 40,
     "metadata": {},
     "output_type": "execute_result"
    }
   ],
   "source": [
    "data[features_list].head()"
   ]
  },
  {
   "cell_type": "code",
   "execution_count": 41,
   "metadata": {},
   "outputs": [],
   "source": [
    "#generate target variable\n",
    "X = data[features_list]\n",
    "data['target'] = np.where(data['Close'].shift(-1) > data['Close'], 1, -1)\n",
    "y = data['target']"
   ]
  },
  {
   "cell_type": "code",
   "execution_count": 42,
   "metadata": {},
   "outputs": [],
   "source": [
    "from sklearn.model_selection import train_test_split"
   ]
  },
  {
   "cell_type": "code",
   "execution_count": 43,
   "metadata": {},
   "outputs": [],
   "source": [
    "#splitting into train and test data\n",
    "X_train, X_test, y_train, y_test = train_test_split(X, y, test_size=0.2, shuffle=False)"
   ]
  },
  {
   "cell_type": "code",
   "execution_count": 44,
   "metadata": {},
   "outputs": [
    {
     "data": {
      "text/plain": [
       "((1847, 16), (462, 16), (1847,), (462,))"
      ]
     },
     "execution_count": 44,
     "metadata": {},
     "output_type": "execute_result"
    }
   ],
   "source": [
    "X_train.shape, X_test.shape, y_train.shape, y_test.shape"
   ]
  },
  {
   "cell_type": "code",
   "execution_count": 45,
   "metadata": {},
   "outputs": [],
   "source": [
    "from sklearn.preprocessing import StandardScaler"
   ]
  },
  {
   "cell_type": "code",
   "execution_count": 46,
   "metadata": {},
   "outputs": [
    {
     "data": {
      "text/plain": [
       "Index(['std_5', 'std_10', 'std_15', 'ma_10', 'ma_15', 'ma_20', 'ma_25',\n",
       "       'pct_3', 'pct_6', 'pct_9', 'co', 'upper_band', 'middle_band',\n",
       "       'lower_band', 'macd', 'sar'],\n",
       "      dtype='object')"
      ]
     },
     "execution_count": 46,
     "metadata": {},
     "output_type": "execute_result"
    }
   ],
   "source": [
    "X_train.columns"
   ]
  },
  {
   "cell_type": "code",
   "execution_count": 47,
   "metadata": {},
   "outputs": [],
   "source": [
    "scaler = StandardScaler()\n",
    "\n",
    "X_train_scaled = scaler.fit_transform(X_train)\n",
    "X_test_scaled = scaler.transform(X_test)\n",
    "# and as x_test is testing data we will keep it hidden and not calculate zscore"
   ]
  },
  {
   "cell_type": "code",
   "execution_count": 48,
   "metadata": {},
   "outputs": [],
   "source": [
    "X_train_scaled_df = pd.DataFrame(X_train_scaled, columns=X_train.columns)\n",
    "#The scaled training data is converted to a DataFrame (X_train_scaled_df) to facilitate visualization and analysis. \n",
    "\n"
   ]
  },
  {
   "cell_type": "code",
   "execution_count": 49,
   "metadata": {},
   "outputs": [
    {
     "data": {
      "text/html": [
       "<div>\n",
       "<style scoped>\n",
       "    .dataframe tbody tr th:only-of-type {\n",
       "        vertical-align: middle;\n",
       "    }\n",
       "\n",
       "    .dataframe tbody tr th {\n",
       "        vertical-align: top;\n",
       "    }\n",
       "\n",
       "    .dataframe thead th {\n",
       "        text-align: right;\n",
       "    }\n",
       "</style>\n",
       "<table border=\"1\" class=\"dataframe\">\n",
       "  <thead>\n",
       "    <tr style=\"text-align: right;\">\n",
       "      <th></th>\n",
       "      <th>std_5</th>\n",
       "      <th>std_10</th>\n",
       "      <th>std_15</th>\n",
       "      <th>ma_10</th>\n",
       "      <th>ma_15</th>\n",
       "      <th>ma_20</th>\n",
       "      <th>ma_25</th>\n",
       "      <th>pct_3</th>\n",
       "      <th>pct_6</th>\n",
       "      <th>pct_9</th>\n",
       "      <th>co</th>\n",
       "      <th>upper_band</th>\n",
       "      <th>middle_band</th>\n",
       "      <th>lower_band</th>\n",
       "      <th>macd</th>\n",
       "      <th>sar</th>\n",
       "    </tr>\n",
       "  </thead>\n",
       "  <tbody>\n",
       "    <tr>\n",
       "      <th>count</th>\n",
       "      <td>1847.00</td>\n",
       "      <td>1847.00</td>\n",
       "      <td>1847.00</td>\n",
       "      <td>1847.00</td>\n",
       "      <td>1847.00</td>\n",
       "      <td>1847.00</td>\n",
       "      <td>1847.00</td>\n",
       "      <td>1847.00</td>\n",
       "      <td>1847.00</td>\n",
       "      <td>1847.00</td>\n",
       "      <td>1847.00</td>\n",
       "      <td>1847.00</td>\n",
       "      <td>1847.00</td>\n",
       "      <td>1847.00</td>\n",
       "      <td>1847.00</td>\n",
       "      <td>1847.00</td>\n",
       "    </tr>\n",
       "    <tr>\n",
       "      <th>mean</th>\n",
       "      <td>-0.00</td>\n",
       "      <td>0.00</td>\n",
       "      <td>0.00</td>\n",
       "      <td>-0.00</td>\n",
       "      <td>0.00</td>\n",
       "      <td>0.00</td>\n",
       "      <td>-0.00</td>\n",
       "      <td>0.00</td>\n",
       "      <td>-0.00</td>\n",
       "      <td>0.00</td>\n",
       "      <td>-0.00</td>\n",
       "      <td>-0.00</td>\n",
       "      <td>-0.00</td>\n",
       "      <td>-0.00</td>\n",
       "      <td>0.00</td>\n",
       "      <td>0.00</td>\n",
       "    </tr>\n",
       "    <tr>\n",
       "      <th>std</th>\n",
       "      <td>1.00</td>\n",
       "      <td>1.00</td>\n",
       "      <td>1.00</td>\n",
       "      <td>1.00</td>\n",
       "      <td>1.00</td>\n",
       "      <td>1.00</td>\n",
       "      <td>1.00</td>\n",
       "      <td>1.00</td>\n",
       "      <td>1.00</td>\n",
       "      <td>1.00</td>\n",
       "      <td>1.00</td>\n",
       "      <td>1.00</td>\n",
       "      <td>1.00</td>\n",
       "      <td>1.00</td>\n",
       "      <td>1.00</td>\n",
       "      <td>1.00</td>\n",
       "    </tr>\n",
       "    <tr>\n",
       "      <th>min</th>\n",
       "      <td>-1.55</td>\n",
       "      <td>-1.68</td>\n",
       "      <td>-1.62</td>\n",
       "      <td>-1.89</td>\n",
       "      <td>-1.88</td>\n",
       "      <td>-1.87</td>\n",
       "      <td>-1.85</td>\n",
       "      <td>-4.14</td>\n",
       "      <td>-3.95</td>\n",
       "      <td>-3.63</td>\n",
       "      <td>-9.33</td>\n",
       "      <td>-1.94</td>\n",
       "      <td>-1.89</td>\n",
       "      <td>-1.88</td>\n",
       "      <td>-3.28</td>\n",
       "      <td>-4.14</td>\n",
       "    </tr>\n",
       "    <tr>\n",
       "      <th>25%</th>\n",
       "      <td>-0.75</td>\n",
       "      <td>-0.73</td>\n",
       "      <td>-0.73</td>\n",
       "      <td>-1.15</td>\n",
       "      <td>-1.18</td>\n",
       "      <td>-1.19</td>\n",
       "      <td>-1.20</td>\n",
       "      <td>-0.60</td>\n",
       "      <td>-0.60</td>\n",
       "      <td>-0.65</td>\n",
       "      <td>-0.03</td>\n",
       "      <td>-1.14</td>\n",
       "      <td>-1.14</td>\n",
       "      <td>-1.13</td>\n",
       "      <td>-0.57</td>\n",
       "      <td>-1.03</td>\n",
       "    </tr>\n",
       "    <tr>\n",
       "      <th>50%</th>\n",
       "      <td>-0.21</td>\n",
       "      <td>-0.20</td>\n",
       "      <td>-0.20</td>\n",
       "      <td>0.33</td>\n",
       "      <td>0.33</td>\n",
       "      <td>0.32</td>\n",
       "      <td>0.32</td>\n",
       "      <td>0.01</td>\n",
       "      <td>-0.01</td>\n",
       "      <td>0.01</td>\n",
       "      <td>0.01</td>\n",
       "      <td>0.32</td>\n",
       "      <td>0.32</td>\n",
       "      <td>0.33</td>\n",
       "      <td>0.07</td>\n",
       "      <td>0.32</td>\n",
       "    </tr>\n",
       "    <tr>\n",
       "      <th>75%</th>\n",
       "      <td>0.51</td>\n",
       "      <td>0.54</td>\n",
       "      <td>0.54</td>\n",
       "      <td>0.81</td>\n",
       "      <td>0.81</td>\n",
       "      <td>0.82</td>\n",
       "      <td>0.83</td>\n",
       "      <td>0.62</td>\n",
       "      <td>0.62</td>\n",
       "      <td>0.63</td>\n",
       "      <td>0.06</td>\n",
       "      <td>0.78</td>\n",
       "      <td>0.81</td>\n",
       "      <td>0.82</td>\n",
       "      <td>0.65</td>\n",
       "      <td>0.78</td>\n",
       "    </tr>\n",
       "    <tr>\n",
       "      <th>max</th>\n",
       "      <td>5.35</td>\n",
       "      <td>4.03</td>\n",
       "      <td>4.46</td>\n",
       "      <td>1.84</td>\n",
       "      <td>1.76</td>\n",
       "      <td>1.72</td>\n",
       "      <td>1.68</td>\n",
       "      <td>3.98</td>\n",
       "      <td>3.14</td>\n",
       "      <td>3.10</td>\n",
       "      <td>10.92</td>\n",
       "      <td>2.02</td>\n",
       "      <td>1.93</td>\n",
       "      <td>2.01</td>\n",
       "      <td>3.37</td>\n",
       "      <td>1.97</td>\n",
       "    </tr>\n",
       "  </tbody>\n",
       "</table>\n",
       "</div>"
      ],
      "text/plain": [
       "         std_5   std_10   std_15    ma_10    ma_15    ma_20    ma_25    pct_3  \\\n",
       "count  1847.00  1847.00  1847.00  1847.00  1847.00  1847.00  1847.00  1847.00   \n",
       "mean     -0.00     0.00     0.00    -0.00     0.00     0.00    -0.00     0.00   \n",
       "std       1.00     1.00     1.00     1.00     1.00     1.00     1.00     1.00   \n",
       "min      -1.55    -1.68    -1.62    -1.89    -1.88    -1.87    -1.85    -4.14   \n",
       "25%      -0.75    -0.73    -0.73    -1.15    -1.18    -1.19    -1.20    -0.60   \n",
       "50%      -0.21    -0.20    -0.20     0.33     0.33     0.32     0.32     0.01   \n",
       "75%       0.51     0.54     0.54     0.81     0.81     0.82     0.83     0.62   \n",
       "max       5.35     4.03     4.46     1.84     1.76     1.72     1.68     3.98   \n",
       "\n",
       "         pct_6    pct_9       co  upper_band  middle_band  lower_band  \\\n",
       "count  1847.00  1847.00  1847.00     1847.00      1847.00     1847.00   \n",
       "mean     -0.00     0.00    -0.00       -0.00        -0.00       -0.00   \n",
       "std       1.00     1.00     1.00        1.00         1.00        1.00   \n",
       "min      -3.95    -3.63    -9.33       -1.94        -1.89       -1.88   \n",
       "25%      -0.60    -0.65    -0.03       -1.14        -1.14       -1.13   \n",
       "50%      -0.01     0.01     0.01        0.32         0.32        0.33   \n",
       "75%       0.62     0.63     0.06        0.78         0.81        0.82   \n",
       "max       3.14     3.10    10.92        2.02         1.93        2.01   \n",
       "\n",
       "          macd      sar  \n",
       "count  1847.00  1847.00  \n",
       "mean      0.00     0.00  \n",
       "std       1.00     1.00  \n",
       "min      -3.28    -4.14  \n",
       "25%      -0.57    -1.03  \n",
       "50%       0.07     0.32  \n",
       "75%       0.65     0.78  \n",
       "max       3.37     1.97  "
      ]
     },
     "execution_count": 49,
     "metadata": {},
     "output_type": "execute_result"
    }
   ],
   "source": [
    "X_train_scaled_df.describe().round(2)"
   ]
  },
  {
   "cell_type": "code",
   "execution_count": 50,
   "metadata": {},
   "outputs": [],
   "source": [
    "from sklearn.neural_network import MLPClassifier"
   ]
  },
  {
   "cell_type": "code",
   "execution_count": 51,
   "metadata": {},
   "outputs": [],
   "source": [
    "MLPClassifier?"
   ]
  },
  {
   "cell_type": "code",
   "execution_count": 52,
   "metadata": {
    "scrolled": true
   },
   "outputs": [
    {
     "data": {
      "text/html": [
       "<style>#sk-container-id-2 {color: black;background-color: white;}#sk-container-id-2 pre{padding: 0;}#sk-container-id-2 div.sk-toggleable {background-color: white;}#sk-container-id-2 label.sk-toggleable__label {cursor: pointer;display: block;width: 100%;margin-bottom: 0;padding: 0.3em;box-sizing: border-box;text-align: center;}#sk-container-id-2 label.sk-toggleable__label-arrow:before {content: \"▸\";float: left;margin-right: 0.25em;color: #696969;}#sk-container-id-2 label.sk-toggleable__label-arrow:hover:before {color: black;}#sk-container-id-2 div.sk-estimator:hover label.sk-toggleable__label-arrow:before {color: black;}#sk-container-id-2 div.sk-toggleable__content {max-height: 0;max-width: 0;overflow: hidden;text-align: left;background-color: #f0f8ff;}#sk-container-id-2 div.sk-toggleable__content pre {margin: 0.2em;color: black;border-radius: 0.25em;background-color: #f0f8ff;}#sk-container-id-2 input.sk-toggleable__control:checked~div.sk-toggleable__content {max-height: 200px;max-width: 100%;overflow: auto;}#sk-container-id-2 input.sk-toggleable__control:checked~label.sk-toggleable__label-arrow:before {content: \"▾\";}#sk-container-id-2 div.sk-estimator input.sk-toggleable__control:checked~label.sk-toggleable__label {background-color: #d4ebff;}#sk-container-id-2 div.sk-label input.sk-toggleable__control:checked~label.sk-toggleable__label {background-color: #d4ebff;}#sk-container-id-2 input.sk-hidden--visually {border: 0;clip: rect(1px 1px 1px 1px);clip: rect(1px, 1px, 1px, 1px);height: 1px;margin: -1px;overflow: hidden;padding: 0;position: absolute;width: 1px;}#sk-container-id-2 div.sk-estimator {font-family: monospace;background-color: #f0f8ff;border: 1px dotted black;border-radius: 0.25em;box-sizing: border-box;margin-bottom: 0.5em;}#sk-container-id-2 div.sk-estimator:hover {background-color: #d4ebff;}#sk-container-id-2 div.sk-parallel-item::after {content: \"\";width: 100%;border-bottom: 1px solid gray;flex-grow: 1;}#sk-container-id-2 div.sk-label:hover label.sk-toggleable__label {background-color: #d4ebff;}#sk-container-id-2 div.sk-serial::before {content: \"\";position: absolute;border-left: 1px solid gray;box-sizing: border-box;top: 0;bottom: 0;left: 50%;z-index: 0;}#sk-container-id-2 div.sk-serial {display: flex;flex-direction: column;align-items: center;background-color: white;padding-right: 0.2em;padding-left: 0.2em;position: relative;}#sk-container-id-2 div.sk-item {position: relative;z-index: 1;}#sk-container-id-2 div.sk-parallel {display: flex;align-items: stretch;justify-content: center;background-color: white;position: relative;}#sk-container-id-2 div.sk-item::before, #sk-container-id-2 div.sk-parallel-item::before {content: \"\";position: absolute;border-left: 1px solid gray;box-sizing: border-box;top: 0;bottom: 0;left: 50%;z-index: -1;}#sk-container-id-2 div.sk-parallel-item {display: flex;flex-direction: column;z-index: 1;position: relative;background-color: white;}#sk-container-id-2 div.sk-parallel-item:first-child::after {align-self: flex-end;width: 50%;}#sk-container-id-2 div.sk-parallel-item:last-child::after {align-self: flex-start;width: 50%;}#sk-container-id-2 div.sk-parallel-item:only-child::after {width: 0;}#sk-container-id-2 div.sk-dashed-wrapped {border: 1px dashed gray;margin: 0 0.4em 0.5em 0.4em;box-sizing: border-box;padding-bottom: 0.4em;background-color: white;}#sk-container-id-2 div.sk-label label {font-family: monospace;font-weight: bold;display: inline-block;line-height: 1.2em;}#sk-container-id-2 div.sk-label-container {text-align: center;}#sk-container-id-2 div.sk-container {/* jupyter's `normalize.less` sets `[hidden] { display: none; }` but bootstrap.min.css set `[hidden] { display: none !important; }` so we also need the `!important` here to be able to override the default hidden behavior on the sphinx rendered scikit-learn.org. See: https://github.com/scikit-learn/scikit-learn/issues/21755 */display: inline-block !important;position: relative;}#sk-container-id-2 div.sk-text-repr-fallback {display: none;}</style><div id=\"sk-container-id-2\" class=\"sk-top-container\"><div class=\"sk-text-repr-fallback\"><pre>MLPClassifier(activation=&#x27;tanh&#x27;, hidden_layer_sizes=5, max_iter=300,\n",
       "              random_state=1, shuffle=False)</pre><b>In a Jupyter environment, please rerun this cell to show the HTML representation or trust the notebook. <br />On GitHub, the HTML representation is unable to render, please try loading this page with nbviewer.org.</b></div><div class=\"sk-container\" hidden><div class=\"sk-item\"><div class=\"sk-estimator sk-toggleable\"><input class=\"sk-toggleable__control sk-hidden--visually\" id=\"sk-estimator-id-2\" type=\"checkbox\" checked><label for=\"sk-estimator-id-2\" class=\"sk-toggleable__label sk-toggleable__label-arrow\">MLPClassifier</label><div class=\"sk-toggleable__content\"><pre>MLPClassifier(activation=&#x27;tanh&#x27;, hidden_layer_sizes=5, max_iter=300,\n",
       "              random_state=1, shuffle=False)</pre></div></div></div></div></div>"
      ],
      "text/plain": [
       "MLPClassifier(activation='tanh', hidden_layer_sizes=5, max_iter=300,\n",
       "              random_state=1, shuffle=False)"
      ]
     },
     "execution_count": 52,
     "metadata": {},
     "output_type": "execute_result"
    }
   ],
   "source": [
    "# Define model\n",
    "\n",
    "model = MLPClassifier(hidden_layer_sizes=(5), max_iter=300, activation = 'tanh', solver='adam', random_state=1, shuffle=False)\n",
    "\n",
    "# Train model\n",
    "model.fit(X_train_scaled, y_train)"
   ]
  },
  {
   "cell_type": "code",
   "execution_count": 53,
   "metadata": {},
   "outputs": [
    {
     "data": {
      "text/plain": [
       "3"
      ]
     },
     "execution_count": 53,
     "metadata": {},
     "output_type": "execute_result"
    }
   ],
   "source": [
    "# Check number of layers in the model\n",
    "model.n_layers_"
   ]
  },
  {
   "cell_type": "code",
   "execution_count": 54,
   "metadata": {
    "scrolled": true
   },
   "outputs": [
    {
     "name": "stdout",
     "output_type": "stream",
     "text": [
      "Weights between input layer and the hidden layer:\n",
      "[[ 0.1906901   0.0579818  -0.19468221 -0.02306695 -0.19404353]\n",
      " [-0.19192638 -0.53147275  0.06213065  0.00828938  0.20600657]\n",
      " [ 0.11918324  0.00131944 -0.17041228  0.54841862 -0.49120075]\n",
      " [ 0.26492481 -0.1018542   0.13483914 -0.43780642 -0.27469322]\n",
      " [ 0.39489489  0.49801471 -0.13353068  0.14910007  0.44486949]\n",
      " [ 0.49952566 -0.44279923 -0.42765749 -0.40177063  0.44756863]\n",
      " [-0.34984849 -0.0808474   0.55099759 -0.01149621  0.24853633]\n",
      " [-0.34274318  0.15168506  0.30780765 -0.45729824  0.3406113 ]\n",
      " [ 0.46317592  0.14395837 -0.36172514  0.30396917 -0.48403983]\n",
      " [ 0.19229994  0.10778842 -0.29001463 -0.01359776 -0.26714594]\n",
      " [-0.17362383 -0.12930097 -0.07140831  0.07144226  0.23888272]\n",
      " [-0.37710127  0.05214864 -0.29028884  0.0554003   0.26866131]\n",
      " [-0.33679454 -0.11132456  0.27595263 -0.14259064 -0.43496643]\n",
      " [ 0.11376412  0.16376341  0.06354817  0.41323017  0.12870295]\n",
      " [ 0.39067817 -0.43943841 -0.39709343  0.1415785  -0.17026514]\n",
      " [-0.32142755  0.50423006 -0.05284877  0.22605738  0.26332109]]\n",
      "Biases between input layer and the hidden layer:\n",
      "[ 0.5433079  -0.07234299  0.48715764  0.00818562 -0.09751198]\n"
     ]
    }
   ],
   "source": [
    "# Check weights\n",
    "print('Weights between input layer and the hidden layer:')\n",
    "print(model.coefs_[0])\n",
    "print('Biases between input layer and the hidden layer:')\n",
    "print(model.intercepts_[0])"
   ]
  },
  {
   "cell_type": "code",
   "execution_count": 55,
   "metadata": {},
   "outputs": [
    {
     "name": "stdout",
     "output_type": "stream",
     "text": [
      "Weights between hidden layer and the output layer:\n",
      "[[ 0.63055751]\n",
      " [-0.16053368]\n",
      " [ 0.71555463]\n",
      " [ 0.3826028 ]\n",
      " [ 0.2055382 ]]\n",
      "Biases between hidden layer and the output layer:\n",
      "[-0.5331001]\n"
     ]
    }
   ],
   "source": [
    "print('Weights between hidden layer and the output layer:')\n",
    "print(model.coefs_[1])\n",
    "print('Biases between hidden layer and the output layer:')\n",
    "print(model.intercepts_[1])"
   ]
  },
  {
   "cell_type": "code",
   "execution_count": 56,
   "metadata": {},
   "outputs": [
    {
     "name": "stdout",
     "output_type": "stream",
     "text": [
      "Model accuracy on training data: 0.5240931239848403\n"
     ]
    }
   ],
   "source": [
    "# Check model accuracy on training data\n",
    "print('Model accuracy on training data:', model.score(X_train_scaled, y_train))"
   ]
  },
  {
   "cell_type": "code",
   "execution_count": 57,
   "metadata": {},
   "outputs": [
    {
     "name": "stdout",
     "output_type": "stream",
     "text": [
      "Model accuracy on testing data: 0.5021645021645021\n"
     ]
    }
   ],
   "source": [
    "# Check model accuracy on testing data\n",
    "print('Model accuracy on testing data:', model.score(X_test_scaled, y_test))"
   ]
  },
  {
   "cell_type": "code",
   "execution_count": 58,
   "metadata": {},
   "outputs": [],
   "source": [
    "# Predict data\n",
    "y_pred = model.predict(X_test_scaled)"
   ]
  },
  {
   "cell_type": "code",
   "execution_count": 59,
   "metadata": {},
   "outputs": [
    {
     "name": "stdout",
     "output_type": "stream",
     "text": [
      "Precision: 0.5095786126011975\n",
      "Recall: 0.5021645021645021\n"
     ]
    }
   ],
   "source": [
    "# Calculate Precision and Recall\n",
    "from sklearn.metrics import precision_score, recall_score\n",
    "\n",
    "precision = precision_score(y_test, y_pred, average='weighted')\n",
    "recall = recall_score(y_test, y_pred, average='weighted')\n",
    "print(\"Precision:\", precision)\n",
    "print(\"Recall:\", recall)"
   ]
  },
  {
   "cell_type": "code",
   "execution_count": null,
   "metadata": {},
   "outputs": [],
   "source": []
  },
  {
   "cell_type": "markdown",
   "metadata": {},
   "source": [
    "# MLP Regressor"
   ]
  },
  {
   "cell_type": "code",
   "execution_count": 60,
   "metadata": {},
   "outputs": [],
   "source": [
    "#import necessary libraires\n",
    "import yfinance as yf\n",
    "import numpy as np\n",
    "import pandas as pd\n",
    "import matplotlib.pyplot as plt\n",
    "from sklearn.model_selection import train_test_split\n",
    "from sklearn.preprocessing import StandardScaler\n",
    "from sklearn.linear_model import LinearRegression\n",
    "from sklearn.model_selection import train_test_split\n",
    "from sklearn.preprocessing import StandardScaler\n",
    "from sklearn.neural_network import MLPRegressor\n",
    "from sklearn.metrics import mean_squared_error , mean_absolute_error\n"
   ]
  },
  {
   "cell_type": "code",
   "execution_count": 61,
   "metadata": {},
   "outputs": [
    {
     "name": "stdout",
     "output_type": "stream",
     "text": [
      "[*********************100%***********************]  1 of 1 completed\n"
     ]
    }
   ],
   "source": [
    "\n",
    "# Download data\n",
    "stock_symbol = \"TCS\"\n",
    "start_date = \"2013-12-31\"\n",
    "end_date = \"2023-12-30\"\n",
    "data = yf.download(stock_symbol, start=start_date, end=end_date)\n"
   ]
  },
  {
   "cell_type": "code",
   "execution_count": 62,
   "metadata": {},
   "outputs": [],
   "source": [
    "#generate target values\n",
    "data['cc_returns'] = np.log(data['Close'] / data['Close'].shift(1))\n",
    "data['target'] = data['Close'].shift(-1)\n",
    "data.dropna(inplace=True)"
   ]
  },
  {
   "cell_type": "code",
   "execution_count": 63,
   "metadata": {},
   "outputs": [],
   "source": [
    "\n",
    "# Generate features\n",
    "features_list = []\n",
    "\n",
    "#Moving Average\n",
    "for i in [10,15,25,35]:\n",
    "    col_name = 'SMA_' + str(i)\n",
    "    data[col_name] = data['Close'].rolling(window=i).mean()\n",
    "    features_list.append(col_name)\n",
    "\n",
    "# RSI\n",
    "window_length = 14\n",
    "diff = data['Close'].diff(1)\n",
    "gain = diff.where(diff > 0, 0)\n",
    "loss = -diff.where(diff < 0, 0)\n",
    "avg_gain = gain.rolling(window=window_length).mean()\n",
    "avg_loss = loss.rolling(window=window_length).mean()\n",
    "rs = avg_gain / avg_loss\n",
    "data['RSI'] = 100 - (100 / (1 + rs))\n",
    "features_list.append('RSI')\n",
    "\n",
    "# Bollinger band\n",
    "window_length = 20\n",
    "data['MA'] = data['Close'].rolling(window=window_length).mean()\n",
    "data['std_dev'] = data['Close'].rolling(window=window_length).std()\n",
    "data['UpperBand'] = data['MA'] + 2 * data['std_dev']\n",
    "data['LowerBand'] = data['MA'] - 2 * data['std_dev']\n",
    "features_list.extend(['UpperBand', 'LowerBand'])\n",
    "data.dropna(inplace=True)\n",
    "    "
   ]
  },
  {
   "cell_type": "code",
   "execution_count": 64,
   "metadata": {},
   "outputs": [
    {
     "name": "stdout",
     "output_type": "stream",
     "text": [
      "                 Open       High        Low      Close  Adj Close   Volume  \\\n",
      "Date                                                                         \n",
      "2014-02-21  35.509998  35.959999  35.040001  35.169998  32.876305   240900   \n",
      "2014-02-24  34.000000  34.480000  33.040001  34.110001  31.885435  1427100   \n",
      "2014-02-25  33.650002  33.980000  32.799999  33.310001  31.137611   544400   \n",
      "2014-02-26  33.689999  35.250000  33.320000  34.930000  32.651958   633500   \n",
      "2014-02-27  34.900002  36.099998  34.500000  35.970001  33.624130   315300   \n",
      "\n",
      "            cc_returns     target  SMA_10     SMA_15   SMA_25     SMA_35  \\\n",
      "Date                                                                       \n",
      "2014-02-21   -0.013556  34.110001  37.012  36.836666  37.1660  38.216857   \n",
      "2014-02-24   -0.030603  33.310001  36.581  36.660666  36.9740  37.940571   \n",
      "2014-02-25   -0.023733  34.930000  36.094  36.472000  36.7712  37.673429   \n",
      "2014-02-26    0.047488  35.970001  35.672  36.350667  36.6312  37.443429   \n",
      "2014-02-27    0.029339  35.810001  35.523  36.364667  36.5328  37.162857   \n",
      "\n",
      "                  RSI       MA   std_dev  UpperBand  LowerBand  \n",
      "Date                                                            \n",
      "2014-02-21  42.895677  36.8500  1.057982  38.965965  34.734035  \n",
      "2014-02-24  41.227317  36.6580  1.188265  39.034531  34.281469  \n",
      "2014-02-25  35.374153  36.4365  1.374287  39.185074  33.687926  \n",
      "2014-02-26  46.650531  36.3585  1.414765  39.188030  33.528970  \n",
      "2014-02-27  45.641456  36.3845  1.401910  39.188320  33.580680  \n"
     ]
    }
   ],
   "source": [
    "\n",
    "print(data.head())\n"
   ]
  },
  {
   "cell_type": "code",
   "execution_count": 65,
   "metadata": {},
   "outputs": [],
   "source": [
    "\n",
    "# Generate train-test split\n",
    "X_train, X_test, y_train, y_test = train_test_split(\n",
    "    data[features_list].iloc[:-1],\n",
    "    data.iloc[:-1]['target'],\n",
    "    test_size=0.25,\n",
    "    shuffle=False\n",
    ")\n"
   ]
  },
  {
   "cell_type": "code",
   "execution_count": 66,
   "metadata": {},
   "outputs": [],
   "source": [
    "\n",
    "# Feature scaling\n",
    "scaler = StandardScaler()\n",
    "X_train_scaled = scaler.fit_transform(X_train)\n",
    "X_test_scaled = scaler.transform(X_test)\n",
    "\n"
   ]
  },
  {
   "cell_type": "code",
   "execution_count": 67,
   "metadata": {},
   "outputs": [
    {
     "data": {
      "text/html": [
       "<div>\n",
       "<style scoped>\n",
       "    .dataframe tbody tr th:only-of-type {\n",
       "        vertical-align: middle;\n",
       "    }\n",
       "\n",
       "    .dataframe tbody tr th {\n",
       "        vertical-align: top;\n",
       "    }\n",
       "\n",
       "    .dataframe thead th {\n",
       "        text-align: right;\n",
       "    }\n",
       "</style>\n",
       "<table border=\"1\" class=\"dataframe\">\n",
       "  <thead>\n",
       "    <tr style=\"text-align: right;\">\n",
       "      <th></th>\n",
       "      <th>SMA_10</th>\n",
       "      <th>SMA_15</th>\n",
       "      <th>SMA_25</th>\n",
       "      <th>SMA_35</th>\n",
       "      <th>RSI</th>\n",
       "      <th>UpperBand</th>\n",
       "      <th>LowerBand</th>\n",
       "    </tr>\n",
       "  </thead>\n",
       "  <tbody>\n",
       "    <tr>\n",
       "      <th>count</th>\n",
       "      <td>1860.00</td>\n",
       "      <td>1860.00</td>\n",
       "      <td>1860.00</td>\n",
       "      <td>1860.00</td>\n",
       "      <td>1860.00</td>\n",
       "      <td>1860.00</td>\n",
       "      <td>1860.00</td>\n",
       "    </tr>\n",
       "    <tr>\n",
       "      <th>mean</th>\n",
       "      <td>0.00</td>\n",
       "      <td>0.00</td>\n",
       "      <td>-0.00</td>\n",
       "      <td>0.00</td>\n",
       "      <td>0.00</td>\n",
       "      <td>-0.00</td>\n",
       "      <td>0.00</td>\n",
       "    </tr>\n",
       "    <tr>\n",
       "      <th>std</th>\n",
       "      <td>1.00</td>\n",
       "      <td>1.00</td>\n",
       "      <td>1.00</td>\n",
       "      <td>1.00</td>\n",
       "      <td>1.00</td>\n",
       "      <td>1.00</td>\n",
       "      <td>1.00</td>\n",
       "    </tr>\n",
       "    <tr>\n",
       "      <th>min</th>\n",
       "      <td>-1.08</td>\n",
       "      <td>-1.07</td>\n",
       "      <td>-1.06</td>\n",
       "      <td>-1.05</td>\n",
       "      <td>-2.66</td>\n",
       "      <td>-1.10</td>\n",
       "      <td>-1.07</td>\n",
       "    </tr>\n",
       "    <tr>\n",
       "      <th>25%</th>\n",
       "      <td>-0.71</td>\n",
       "      <td>-0.70</td>\n",
       "      <td>-0.70</td>\n",
       "      <td>-0.68</td>\n",
       "      <td>-0.67</td>\n",
       "      <td>-0.72</td>\n",
       "      <td>-0.70</td>\n",
       "    </tr>\n",
       "    <tr>\n",
       "      <th>50%</th>\n",
       "      <td>-0.47</td>\n",
       "      <td>-0.47</td>\n",
       "      <td>-0.48</td>\n",
       "      <td>-0.49</td>\n",
       "      <td>0.01</td>\n",
       "      <td>-0.44</td>\n",
       "      <td>-0.50</td>\n",
       "    </tr>\n",
       "    <tr>\n",
       "      <th>75%</th>\n",
       "      <td>0.64</td>\n",
       "      <td>0.62</td>\n",
       "      <td>0.62</td>\n",
       "      <td>0.61</td>\n",
       "      <td>0.71</td>\n",
       "      <td>0.68</td>\n",
       "      <td>0.54</td>\n",
       "    </tr>\n",
       "    <tr>\n",
       "      <th>max</th>\n",
       "      <td>3.62</td>\n",
       "      <td>3.57</td>\n",
       "      <td>3.55</td>\n",
       "      <td>3.63</td>\n",
       "      <td>2.76</td>\n",
       "      <td>3.36</td>\n",
       "      <td>3.73</td>\n",
       "    </tr>\n",
       "  </tbody>\n",
       "</table>\n",
       "</div>"
      ],
      "text/plain": [
       "        SMA_10   SMA_15   SMA_25   SMA_35      RSI  UpperBand  LowerBand\n",
       "count  1860.00  1860.00  1860.00  1860.00  1860.00    1860.00    1860.00\n",
       "mean      0.00     0.00    -0.00     0.00     0.00      -0.00       0.00\n",
       "std       1.00     1.00     1.00     1.00     1.00       1.00       1.00\n",
       "min      -1.08    -1.07    -1.06    -1.05    -2.66      -1.10      -1.07\n",
       "25%      -0.71    -0.70    -0.70    -0.68    -0.67      -0.72      -0.70\n",
       "50%      -0.47    -0.47    -0.48    -0.49     0.01      -0.44      -0.50\n",
       "75%       0.64     0.62     0.62     0.61     0.71       0.68       0.54\n",
       "max       3.62     3.57     3.55     3.63     2.76       3.36       3.73"
      ]
     },
     "execution_count": 67,
     "metadata": {},
     "output_type": "execute_result"
    }
   ],
   "source": [
    "X_train_scaled_df = pd.DataFrame(X_train_scaled, columns=X_train.columns)\n",
    "X_train_scaled_df.describe().round(2)\n",
    "\n"
   ]
  },
  {
   "cell_type": "code",
   "execution_count": 68,
   "metadata": {},
   "outputs": [
    {
     "data": {
      "text/html": [
       "<style>#sk-container-id-3 {color: black;background-color: white;}#sk-container-id-3 pre{padding: 0;}#sk-container-id-3 div.sk-toggleable {background-color: white;}#sk-container-id-3 label.sk-toggleable__label {cursor: pointer;display: block;width: 100%;margin-bottom: 0;padding: 0.3em;box-sizing: border-box;text-align: center;}#sk-container-id-3 label.sk-toggleable__label-arrow:before {content: \"▸\";float: left;margin-right: 0.25em;color: #696969;}#sk-container-id-3 label.sk-toggleable__label-arrow:hover:before {color: black;}#sk-container-id-3 div.sk-estimator:hover label.sk-toggleable__label-arrow:before {color: black;}#sk-container-id-3 div.sk-toggleable__content {max-height: 0;max-width: 0;overflow: hidden;text-align: left;background-color: #f0f8ff;}#sk-container-id-3 div.sk-toggleable__content pre {margin: 0.2em;color: black;border-radius: 0.25em;background-color: #f0f8ff;}#sk-container-id-3 input.sk-toggleable__control:checked~div.sk-toggleable__content {max-height: 200px;max-width: 100%;overflow: auto;}#sk-container-id-3 input.sk-toggleable__control:checked~label.sk-toggleable__label-arrow:before {content: \"▾\";}#sk-container-id-3 div.sk-estimator input.sk-toggleable__control:checked~label.sk-toggleable__label {background-color: #d4ebff;}#sk-container-id-3 div.sk-label input.sk-toggleable__control:checked~label.sk-toggleable__label {background-color: #d4ebff;}#sk-container-id-3 input.sk-hidden--visually {border: 0;clip: rect(1px 1px 1px 1px);clip: rect(1px, 1px, 1px, 1px);height: 1px;margin: -1px;overflow: hidden;padding: 0;position: absolute;width: 1px;}#sk-container-id-3 div.sk-estimator {font-family: monospace;background-color: #f0f8ff;border: 1px dotted black;border-radius: 0.25em;box-sizing: border-box;margin-bottom: 0.5em;}#sk-container-id-3 div.sk-estimator:hover {background-color: #d4ebff;}#sk-container-id-3 div.sk-parallel-item::after {content: \"\";width: 100%;border-bottom: 1px solid gray;flex-grow: 1;}#sk-container-id-3 div.sk-label:hover label.sk-toggleable__label {background-color: #d4ebff;}#sk-container-id-3 div.sk-serial::before {content: \"\";position: absolute;border-left: 1px solid gray;box-sizing: border-box;top: 0;bottom: 0;left: 50%;z-index: 0;}#sk-container-id-3 div.sk-serial {display: flex;flex-direction: column;align-items: center;background-color: white;padding-right: 0.2em;padding-left: 0.2em;position: relative;}#sk-container-id-3 div.sk-item {position: relative;z-index: 1;}#sk-container-id-3 div.sk-parallel {display: flex;align-items: stretch;justify-content: center;background-color: white;position: relative;}#sk-container-id-3 div.sk-item::before, #sk-container-id-3 div.sk-parallel-item::before {content: \"\";position: absolute;border-left: 1px solid gray;box-sizing: border-box;top: 0;bottom: 0;left: 50%;z-index: -1;}#sk-container-id-3 div.sk-parallel-item {display: flex;flex-direction: column;z-index: 1;position: relative;background-color: white;}#sk-container-id-3 div.sk-parallel-item:first-child::after {align-self: flex-end;width: 50%;}#sk-container-id-3 div.sk-parallel-item:last-child::after {align-self: flex-start;width: 50%;}#sk-container-id-3 div.sk-parallel-item:only-child::after {width: 0;}#sk-container-id-3 div.sk-dashed-wrapped {border: 1px dashed gray;margin: 0 0.4em 0.5em 0.4em;box-sizing: border-box;padding-bottom: 0.4em;background-color: white;}#sk-container-id-3 div.sk-label label {font-family: monospace;font-weight: bold;display: inline-block;line-height: 1.2em;}#sk-container-id-3 div.sk-label-container {text-align: center;}#sk-container-id-3 div.sk-container {/* jupyter's `normalize.less` sets `[hidden] { display: none; }` but bootstrap.min.css set `[hidden] { display: none !important; }` so we also need the `!important` here to be able to override the default hidden behavior on the sphinx rendered scikit-learn.org. See: https://github.com/scikit-learn/scikit-learn/issues/21755 */display: inline-block !important;position: relative;}#sk-container-id-3 div.sk-text-repr-fallback {display: none;}</style><div id=\"sk-container-id-3\" class=\"sk-top-container\"><div class=\"sk-text-repr-fallback\"><pre>MLPRegressor(hidden_layer_sizes=(10, 5), max_iter=800, random_state=1,\n",
       "             shuffle=False)</pre><b>In a Jupyter environment, please rerun this cell to show the HTML representation or trust the notebook. <br />On GitHub, the HTML representation is unable to render, please try loading this page with nbviewer.org.</b></div><div class=\"sk-container\" hidden><div class=\"sk-item\"><div class=\"sk-estimator sk-toggleable\"><input class=\"sk-toggleable__control sk-hidden--visually\" id=\"sk-estimator-id-3\" type=\"checkbox\" checked><label for=\"sk-estimator-id-3\" class=\"sk-toggleable__label sk-toggleable__label-arrow\">MLPRegressor</label><div class=\"sk-toggleable__content\"><pre>MLPRegressor(hidden_layer_sizes=(10, 5), max_iter=800, random_state=1,\n",
       "             shuffle=False)</pre></div></div></div></div></div>"
      ],
      "text/plain": [
       "MLPRegressor(hidden_layer_sizes=(10, 5), max_iter=800, random_state=1,\n",
       "             shuffle=False)"
      ]
     },
     "execution_count": 68,
     "metadata": {},
     "output_type": "execute_result"
    }
   ],
   "source": [
    "\n",
    "# Build model\n",
    "model = MLPRegressor(hidden_layer_sizes=(10, 5), max_iter=800, activation='relu', solver='adam', random_state=1, shuffle=False)\n",
    "\n",
    "model.fit(X_train_scaled, y_train)\n"
   ]
  },
  {
   "cell_type": "code",
   "execution_count": 69,
   "metadata": {},
   "outputs": [
    {
     "name": "stdout",
     "output_type": "stream",
     "text": [
      "Model accuracy on training data: 0.9914580407529877\n",
      "Model accuracy on testing data: 0.9756699057830946\n",
      "Mean Squared Error: 0.2675279828550034\n",
      "Mean Absolute Error: 0.4050753771866306\n"
     ]
    }
   ],
   "source": [
    "\n",
    "# Evaluate model\n",
    "y_pred_train = model.predict(X_train_scaled)\n",
    "print('Model accuracy on training data:', model.score(X_train_scaled, y_train))\n",
    "\n",
    "y_pred = model.predict(X_test_scaled)\n",
    "print('Model accuracy on testing data:', model.score(X_test_scaled, y_test))\n",
    "\n",
    "mse = mean_squared_error(y_test, y_pred)\n",
    "mae = mean_absolute_error(y_test, y_pred)\n",
    "\n",
    "print('Mean Squared Error:', mse)\n",
    "print('Mean Absolute Error:', mae)\n",
    "\n"
   ]
  },
  {
   "cell_type": "code",
   "execution_count": 70,
   "metadata": {},
   "outputs": [
    {
     "data": {
      "image/png": "[encoded data removed]",
      "text/plain": [
       "<Figure size 1700x1000 with 1 Axes>"
      ]
     },
     "metadata": {},
     "output_type": "display_data"
    }
   ],
   "source": [
    "# Plot results\n",
    "plt.figure(figsize=(17, 10))\n",
    "plt.plot(X_test.index, y_test, label='Actual')\n",
    "plt.plot(X_test.index, model.predict(X_test_scaled), label='Predicted', linestyle='--')\n",
    "plt.xlabel('Date')\n",
    "plt.ylabel('Closing Price')\n",
    "plt.legend()\n",
    "plt.show()\n"
   ]
  },
  {
   "cell_type": "code",
   "execution_count": 71,
   "metadata": {},
   "outputs": [
    {
     "name": "stdout",
     "output_type": "stream",
     "text": [
      "            Actual  Predicted\n",
      "Date                         \n",
      "2021-07-13   11.09  11.598879\n",
      "2021-07-14   10.95  11.121639\n",
      "2021-07-15   10.47  10.575817\n",
      "2021-07-16   10.50   9.675989\n",
      "2021-07-19   10.95   9.675299\n",
      "...            ...        ...\n",
      "2023-12-20    2.37   2.971376\n",
      "2023-12-21    2.32   3.020812\n",
      "2023-12-22    2.47   2.908223\n",
      "2023-12-26    2.34   3.135717\n",
      "2023-12-27    2.27   3.028868\n",
      "\n",
      "[620 rows x 2 columns]\n"
     ]
    }
   ],
   "source": [
    "\n",
    "print(pd.DataFrame({'Actual': y_test, 'Predicted': y_pred}))"
   ]
  },
  {
   "cell_type": "code",
   "execution_count": null,
   "metadata": {},
   "outputs": [],
   "source": []
  },
  {
   "cell_type": "code",
   "execution_count": null,
   "metadata": {},
   "outputs": [],
   "source": []
  }
 ],
 "metadata": {
  "kernelspec": {
   "display_name": "Python 3 (ipykernel)",
   "language": "python",
   "name": "python3"
  },
  "language_info": {
   "codemirror_mode": {
    "name": "ipython",
    "version": 3
   },
   "file_extension": ".py",
   "mimetype": "text/x-python",
   "name": "python",
   "nbconvert_exporter": "python",
   "pygments_lexer": "ipython3",
   "version": "3.10.9"
  },
  "varInspector": {
   "cols": {
    "lenName": 16,
    "lenType": 16,
    "lenVar": 40
   },
   "kernels_config": {
    "python": {
     "delete_cmd_postfix": "",
     "delete_cmd_prefix": "del ",
     "library": "var_list.py",
     "varRefreshCmd": "print(var_dic_list())"
    },
    "r": {
     "delete_cmd_postfix": ") ",
     "delete_cmd_prefix": "rm(",
     "library": "var_list.r",
     "varRefreshCmd": "cat(var_dic_list()) "
    }
   },
   "types_to_exclude": [
    "module",
    "function",
    "builtin_function_or_method",
    "instance",
    "_Feature"
   ],
   "window_display": false
  }
 },
 "nbformat": 4,
 "nbformat_minor": 2
}
